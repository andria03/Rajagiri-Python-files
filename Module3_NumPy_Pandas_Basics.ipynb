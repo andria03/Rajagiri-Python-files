{
  "nbformat": 4,
  "nbformat_minor": 0,
  "metadata": {
    "colab": {
      "provenance": [],
      "toc_visible": true,
      "authorship_tag": "ABX9TyPFiPEpV1+elltVWgF2Jj06",
      "include_colab_link": true
    },
    "kernelspec": {
      "name": "python3",
      "display_name": "Python 3"
    },
    "language_info": {
      "name": "python"
    }
  },
  "cells": [
    {
      "cell_type": "markdown",
      "metadata": {
        "id": "view-in-github",
        "colab_type": "text"
      },
      "source": [
        "<a href=\"https://colab.research.google.com/github/andria03/Rajagiri-Python-files/blob/main/Module3_NumPy_Pandas_Basics.ipynb\" target=\"_parent\"><img src=\"https://colab.research.google.com/assets/colab-badge.svg\" alt=\"Open In Colab\"/></a>"
      ]
    },
    {
      "cell_type": "markdown",
      "source": [
        "**UPLOADING FILES TO GOOGLE COLAB**"
      ],
      "metadata": {
        "id": "owg4CibebR_k"
      }
    },
    {
      "cell_type": "code",
      "source": [],
      "metadata": {
        "id": "12DdXzGx-enN"
      },
      "execution_count": null,
      "outputs": []
    },
    {
      "cell_type": "code",
      "execution_count": null,
      "metadata": {
        "colab": {
          "base_uri": "https://localhost:8080/",
          "height": 73
        },
        "id": "vNEXJJWlMTpU",
        "outputId": "26aee4c0-9fe4-4a18-c58f-683fe86e78a4"
      },
      "outputs": [
        {
          "output_type": "display_data",
          "data": {
            "text/plain": [
              "<IPython.core.display.HTML object>"
            ],
            "text/html": [
              "\n",
              "     <input type=\"file\" id=\"files-e1311607-5a30-4647-b4c5-6a1a21a07d1f\" name=\"files[]\" multiple disabled\n",
              "        style=\"border:none\" />\n",
              "     <output id=\"result-e1311607-5a30-4647-b4c5-6a1a21a07d1f\">\n",
              "      Upload widget is only available when the cell has been executed in the\n",
              "      current browser session. Please rerun this cell to enable.\n",
              "      </output>\n",
              "      <script>// Copyright 2017 Google LLC\n",
              "//\n",
              "// Licensed under the Apache License, Version 2.0 (the \"License\");\n",
              "// you may not use this file except in compliance with the License.\n",
              "// You may obtain a copy of the License at\n",
              "//\n",
              "//      http://www.apache.org/licenses/LICENSE-2.0\n",
              "//\n",
              "// Unless required by applicable law or agreed to in writing, software\n",
              "// distributed under the License is distributed on an \"AS IS\" BASIS,\n",
              "// WITHOUT WARRANTIES OR CONDITIONS OF ANY KIND, either express or implied.\n",
              "// See the License for the specific language governing permissions and\n",
              "// limitations under the License.\n",
              "\n",
              "/**\n",
              " * @fileoverview Helpers for google.colab Python module.\n",
              " */\n",
              "(function(scope) {\n",
              "function span(text, styleAttributes = {}) {\n",
              "  const element = document.createElement('span');\n",
              "  element.textContent = text;\n",
              "  for (const key of Object.keys(styleAttributes)) {\n",
              "    element.style[key] = styleAttributes[key];\n",
              "  }\n",
              "  return element;\n",
              "}\n",
              "\n",
              "// Max number of bytes which will be uploaded at a time.\n",
              "const MAX_PAYLOAD_SIZE = 100 * 1024;\n",
              "\n",
              "function _uploadFiles(inputId, outputId) {\n",
              "  const steps = uploadFilesStep(inputId, outputId);\n",
              "  const outputElement = document.getElementById(outputId);\n",
              "  // Cache steps on the outputElement to make it available for the next call\n",
              "  // to uploadFilesContinue from Python.\n",
              "  outputElement.steps = steps;\n",
              "\n",
              "  return _uploadFilesContinue(outputId);\n",
              "}\n",
              "\n",
              "// This is roughly an async generator (not supported in the browser yet),\n",
              "// where there are multiple asynchronous steps and the Python side is going\n",
              "// to poll for completion of each step.\n",
              "// This uses a Promise to block the python side on completion of each step,\n",
              "// then passes the result of the previous step as the input to the next step.\n",
              "function _uploadFilesContinue(outputId) {\n",
              "  const outputElement = document.getElementById(outputId);\n",
              "  const steps = outputElement.steps;\n",
              "\n",
              "  const next = steps.next(outputElement.lastPromiseValue);\n",
              "  return Promise.resolve(next.value.promise).then((value) => {\n",
              "    // Cache the last promise value to make it available to the next\n",
              "    // step of the generator.\n",
              "    outputElement.lastPromiseValue = value;\n",
              "    return next.value.response;\n",
              "  });\n",
              "}\n",
              "\n",
              "/**\n",
              " * Generator function which is called between each async step of the upload\n",
              " * process.\n",
              " * @param {string} inputId Element ID of the input file picker element.\n",
              " * @param {string} outputId Element ID of the output display.\n",
              " * @return {!Iterable<!Object>} Iterable of next steps.\n",
              " */\n",
              "function* uploadFilesStep(inputId, outputId) {\n",
              "  const inputElement = document.getElementById(inputId);\n",
              "  inputElement.disabled = false;\n",
              "\n",
              "  const outputElement = document.getElementById(outputId);\n",
              "  outputElement.innerHTML = '';\n",
              "\n",
              "  const pickedPromise = new Promise((resolve) => {\n",
              "    inputElement.addEventListener('change', (e) => {\n",
              "      resolve(e.target.files);\n",
              "    });\n",
              "  });\n",
              "\n",
              "  const cancel = document.createElement('button');\n",
              "  inputElement.parentElement.appendChild(cancel);\n",
              "  cancel.textContent = 'Cancel upload';\n",
              "  const cancelPromise = new Promise((resolve) => {\n",
              "    cancel.onclick = () => {\n",
              "      resolve(null);\n",
              "    };\n",
              "  });\n",
              "\n",
              "  // Wait for the user to pick the files.\n",
              "  const files = yield {\n",
              "    promise: Promise.race([pickedPromise, cancelPromise]),\n",
              "    response: {\n",
              "      action: 'starting',\n",
              "    }\n",
              "  };\n",
              "\n",
              "  cancel.remove();\n",
              "\n",
              "  // Disable the input element since further picks are not allowed.\n",
              "  inputElement.disabled = true;\n",
              "\n",
              "  if (!files) {\n",
              "    return {\n",
              "      response: {\n",
              "        action: 'complete',\n",
              "      }\n",
              "    };\n",
              "  }\n",
              "\n",
              "  for (const file of files) {\n",
              "    const li = document.createElement('li');\n",
              "    li.append(span(file.name, {fontWeight: 'bold'}));\n",
              "    li.append(span(\n",
              "        `(${file.type || 'n/a'}) - ${file.size} bytes, ` +\n",
              "        `last modified: ${\n",
              "            file.lastModifiedDate ? file.lastModifiedDate.toLocaleDateString() :\n",
              "                                    'n/a'} - `));\n",
              "    const percent = span('0% done');\n",
              "    li.appendChild(percent);\n",
              "\n",
              "    outputElement.appendChild(li);\n",
              "\n",
              "    const fileDataPromise = new Promise((resolve) => {\n",
              "      const reader = new FileReader();\n",
              "      reader.onload = (e) => {\n",
              "        resolve(e.target.result);\n",
              "      };\n",
              "      reader.readAsArrayBuffer(file);\n",
              "    });\n",
              "    // Wait for the data to be ready.\n",
              "    let fileData = yield {\n",
              "      promise: fileDataPromise,\n",
              "      response: {\n",
              "        action: 'continue',\n",
              "      }\n",
              "    };\n",
              "\n",
              "    // Use a chunked sending to avoid message size limits. See b/62115660.\n",
              "    let position = 0;\n",
              "    do {\n",
              "      const length = Math.min(fileData.byteLength - position, MAX_PAYLOAD_SIZE);\n",
              "      const chunk = new Uint8Array(fileData, position, length);\n",
              "      position += length;\n",
              "\n",
              "      const base64 = btoa(String.fromCharCode.apply(null, chunk));\n",
              "      yield {\n",
              "        response: {\n",
              "          action: 'append',\n",
              "          file: file.name,\n",
              "          data: base64,\n",
              "        },\n",
              "      };\n",
              "\n",
              "      let percentDone = fileData.byteLength === 0 ?\n",
              "          100 :\n",
              "          Math.round((position / fileData.byteLength) * 100);\n",
              "      percent.textContent = `${percentDone}% done`;\n",
              "\n",
              "    } while (position < fileData.byteLength);\n",
              "  }\n",
              "\n",
              "  // All done.\n",
              "  yield {\n",
              "    response: {\n",
              "      action: 'complete',\n",
              "    }\n",
              "  };\n",
              "}\n",
              "\n",
              "scope.google = scope.google || {};\n",
              "scope.google.colab = scope.google.colab || {};\n",
              "scope.google.colab._files = {\n",
              "  _uploadFiles,\n",
              "  _uploadFilesContinue,\n",
              "};\n",
              "})(self);\n",
              "</script> "
            ]
          },
          "metadata": {}
        },
        {
          "output_type": "stream",
          "name": "stdout",
          "text": [
            "Saving players_20.csv to players_20.csv\n"
          ]
        }
      ],
      "source": [
        "from google.colab import files\n",
        "supermarket=files.upload()"
      ]
    },
    {
      "cell_type": "markdown",
      "source": [],
      "metadata": {
        "id": "p9yKdpzMcgGj"
      }
    },
    {
      "cell_type": "code",
      "source": [
        "import google,colab\n",
        "dir(google.colab)"
      ],
      "metadata": {
        "colab": {
          "base_uri": "https://localhost:8080/"
        },
        "id": "8JKsX9dfsN2H",
        "outputId": "50c57e56-fcc1-4849-c058-f12a1dd99921"
      },
      "execution_count": null,
      "outputs": [
        {
          "output_type": "execute_result",
          "data": {
            "text/plain": [
              "['__all__',\n",
              " '__builtins__',\n",
              " '__cached__',\n",
              " '__doc__',\n",
              " '__file__',\n",
              " '__loader__',\n",
              " '__name__',\n",
              " '__package__',\n",
              " '__path__',\n",
              " '__spec__',\n",
              " '__version__',\n",
              " '_debugpy',\n",
              " '_debugpy_repr',\n",
              " '_history',\n",
              " '_import_hooks',\n",
              " '_import_magics',\n",
              " '_inspector',\n",
              " '_installation_commands',\n",
              " '_interactive_table_helper',\n",
              " '_interactive_table_hint_button',\n",
              " '_ipython',\n",
              " '_jupyter_nbextension_paths',\n",
              " '_kernel',\n",
              " '_message',\n",
              " '_pip',\n",
              " '_reprs',\n",
              " '_shell',\n",
              " '_shell_customizations',\n",
              " '_system_commands',\n",
              " '_tensorflow_magics',\n",
              " '_variable_inspector',\n",
              " 'auth',\n",
              " 'data_table',\n",
              " 'drive',\n",
              " 'errors',\n",
              " 'files',\n",
              " 'load_ipython_extension',\n",
              " 'output',\n",
              " 'runtime',\n",
              " 'snippets',\n",
              " 'widgets']"
            ]
          },
          "metadata": {},
          "execution_count": 23
        }
      ]
    },
    {
      "cell_type": "markdown",
      "source": [],
      "metadata": {
        "id": "bLPossC9bRLG"
      }
    },
    {
      "cell_type": "markdown",
      "source": [
        "\n",
        "# **PANDAS**\n",
        "Pandas is a Python library used for working with data sets.\n",
        "\n",
        "It has functions for analyzing, cleaning, exploring, and manipulating data.\n",
        "\n",
        "The name \"Pandas\" has a reference to both \"Panel Data\", and \"Python Data Analysis\" and was created by Wes McKinney in 2008.\n",
        "Pandas allows us to analyze big data and make conclusions based on statistical theories.\n",
        "\n",
        "Pandas are also able to delete rows that are not relevant, or contains wrong values, like empty or NULL values. This is called cleaning the data.\n",
        "\n"
      ],
      "metadata": {
        "id": "Nb3PDOu0WEVv"
      }
    },
    {
      "cell_type": "code",
      "source": [
        "import pandas"
      ],
      "metadata": {
        "id": "At2a3ueUoQwj"
      },
      "execution_count": null,
      "outputs": []
    },
    {
      "cell_type": "markdown",
      "source": [
        "***CREATING DATAFRAME FROM DICTIONARY***"
      ],
      "metadata": {
        "id": "th3dQeKyfW30"
      }
    },
    {
      "cell_type": "code",
      "source": [
        "teamgoals={\n",
        "    'teams':['Spain','England'],\n",
        "    'goals':[2,4]\n",
        "}\n",
        "teamgoaldf= pandas.DataFrame(teamgoals)\n",
        "print(teamgoaldf)"
      ],
      "metadata": {
        "colab": {
          "base_uri": "https://localhost:8080/"
        },
        "id": "nSNQEdE-fYGk",
        "outputId": "401b16ec-d413-47c8-e109-d094c190d377"
      },
      "execution_count": null,
      "outputs": [
        {
          "output_type": "stream",
          "name": "stdout",
          "text": [
            "     teams  goals\n",
            "0    Spain      2\n",
            "1  England      4\n"
          ]
        }
      ]
    },
    {
      "cell_type": "markdown",
      "source": [
        "***READING AND DISPLAYING CSV FILES AS DATAFRAMES***"
      ],
      "metadata": {
        "id": "NopaAdDqhK7c"
      }
    },
    {
      "cell_type": "code",
      "source": [
        "import pandas\n",
        "dataframe=pandas.read_csv(\"Supermarket_sales.csv\")\n",
        "print(dataframe)"
      ],
      "metadata": {
        "colab": {
          "base_uri": "https://localhost:8080/"
        },
        "id": "DWVUODlqV4KK",
        "outputId": "83bc5c45-cef5-4b50-8cc4-fcfa257b770a"
      },
      "execution_count": null,
      "outputs": [
        {
          "output_type": "stream",
          "name": "stdout",
          "text": [
            "       No    InvoiceID Branch       City Customertype  Gender  \\\n",
            "0       1  750-67-8428      A     Yangon       Member  Female   \n",
            "1       2  226-31-3081      C  Naypyitaw       Normal  Female   \n",
            "2       3  631-41-3108      A     Yangon       Normal    Male   \n",
            "3       4  123-19-1176      A     Yangon       Member    Male   \n",
            "4       5  373-73-7910      A     Yangon       Normal    Male   \n",
            "..    ...          ...    ...        ...          ...     ...   \n",
            "995   996  233-67-5758      C  Naypyitaw       Normal    Male   \n",
            "996   997  303-96-2227      B   Mandalay       Normal  Female   \n",
            "997   998  727-02-1313      A     Yangon       Member    Male   \n",
            "998   999  347-56-2442      A     Yangon       Normal    Male   \n",
            "999  1000  849-09-3807      A     Yangon       Member  Female   \n",
            "\n",
            "                Productline  Unitprice  Quantity      Tax      Total  \\\n",
            "0         Health and beauty      74.69         7  26.1415   548.9715   \n",
            "1    Electronic accessories      15.28         5   3.8200    80.2200   \n",
            "2        Home and lifestyle      46.33         7  16.2155   340.5255   \n",
            "3         Health and beauty      58.22         8  23.2880   489.0480   \n",
            "4         Sports and travel      86.31         7  30.2085   634.3785   \n",
            "..                      ...        ...       ...      ...        ...   \n",
            "995       Health and beauty      40.35         1   2.0175    42.3675   \n",
            "996      Home and lifestyle      97.38        10  48.6900  1022.4900   \n",
            "997      Food and beverages      31.84         1   1.5920    33.4320   \n",
            "998      Home and lifestyle      65.82         1   3.2910    69.1110   \n",
            "999     Fashion accessories      88.34         7  30.9190   649.2990   \n",
            "\n",
            "          Date   Time      Payment    cogs  gross_margin_percentage  \\\n",
            "0     1/5/2019  13:08      Ewallet  522.83                 4.761905   \n",
            "1     3/8/2019  10:29         Cash   76.40                 4.761905   \n",
            "2     3/3/2019  13:23  Credit card  324.31                 4.761905   \n",
            "3    1/27/2019  20:33      Ewallet  465.76                 4.761905   \n",
            "4     2/8/2019  10:37      Ewallet  604.17                 4.761905   \n",
            "..         ...    ...          ...     ...                      ...   \n",
            "995  1/29/2019  13:46      Ewallet   40.35                 4.761905   \n",
            "996   3/2/2019  17:16      Ewallet  973.80                 4.761905   \n",
            "997   2/9/2019  13:22         Cash   31.84                 4.761905   \n",
            "998  2/22/2019  15:33         Cash   65.82                 4.761905   \n",
            "999  2/18/2019  13:28         Cash  618.38                 4.761905   \n",
            "\n",
            "     gross_iincome  Rating  \n",
            "0          26.1415     9.1  \n",
            "1           3.8200     9.6  \n",
            "2          16.2155     7.4  \n",
            "3          23.2880     8.4  \n",
            "4          30.2085     5.3  \n",
            "..             ...     ...  \n",
            "995         2.0175     6.2  \n",
            "996        48.6900     4.4  \n",
            "997         1.5920     7.7  \n",
            "998         3.2910     4.1  \n",
            "999        30.9190     6.6  \n",
            "\n",
            "[1000 rows x 18 columns]\n"
          ]
        }
      ]
    },
    {
      "cell_type": "markdown",
      "source": [
        "***DISPLAYING ONLY THE FIRST 5 ROWS OF THE DATAFRAME***\n",
        "\n",
        "---\n",
        "\n"
      ],
      "metadata": {
        "id": "TpxzBBACczOE"
      }
    },
    {
      "cell_type": "code",
      "source": [
        "print(dataframe.head())"
      ],
      "metadata": {
        "colab": {
          "base_uri": "https://localhost:8080/"
        },
        "id": "mu_cu4MyXuAF",
        "outputId": "dae62f3a-958a-4cf7-b394-62eaf6d4e787"
      },
      "execution_count": null,
      "outputs": [
        {
          "output_type": "stream",
          "name": "stdout",
          "text": [
            "   No    InvoiceID Branch       City Customertype  Gender  \\\n",
            "0   1  750-67-8428      A     Yangon       Member  Female   \n",
            "1   2  226-31-3081      C  Naypyitaw       Normal  Female   \n",
            "2   3  631-41-3108      A     Yangon       Normal    Male   \n",
            "3   4  123-19-1176      A     Yangon       Member    Male   \n",
            "4   5  373-73-7910      A     Yangon       Normal    Male   \n",
            "\n",
            "              Productline  Unitprice  Quantity      Tax     Total       Date  \\\n",
            "0       Health and beauty      74.69         7  26.1415  548.9715   1/5/2019   \n",
            "1  Electronic accessories      15.28         5   3.8200   80.2200   3/8/2019   \n",
            "2      Home and lifestyle      46.33         7  16.2155  340.5255   3/3/2019   \n",
            "3       Health and beauty      58.22         8  23.2880  489.0480  1/27/2019   \n",
            "4       Sports and travel      86.31         7  30.2085  634.3785   2/8/2019   \n",
            "\n",
            "    Time      Payment    cogs  gross_margin_percentage  gross_iincome  Rating  \n",
            "0  13:08      Ewallet  522.83                 4.761905        26.1415     9.1  \n",
            "1  10:29         Cash   76.40                 4.761905         3.8200     9.6  \n",
            "2  13:23  Credit card  324.31                 4.761905        16.2155     7.4  \n",
            "3  20:33      Ewallet  465.76                 4.761905        23.2880     8.4  \n",
            "4  10:37      Ewallet  604.17                 4.761905        30.2085     5.3  \n"
          ]
        }
      ]
    },
    {
      "cell_type": "markdown",
      "source": [
        "***DISPLAYING FIRST n number of ROWS***"
      ],
      "metadata": {
        "id": "G0sexB2njAxT"
      }
    },
    {
      "cell_type": "code",
      "source": [
        "print(dataframe.head(10))"
      ],
      "metadata": {
        "colab": {
          "base_uri": "https://localhost:8080/",
          "height": 165
        },
        "id": "sbC6PVRPi386",
        "outputId": "9d85ef99-03fc-485c-bcbd-55e0784dd950"
      },
      "execution_count": null,
      "outputs": [
        {
          "output_type": "error",
          "ename": "NameError",
          "evalue": "ignored",
          "traceback": [
            "\u001b[0;31m---------------------------------------------------------------------------\u001b[0m",
            "\u001b[0;31mNameError\u001b[0m                                 Traceback (most recent call last)",
            "\u001b[0;32m<ipython-input-67-361eb4761124>\u001b[0m in \u001b[0;36m<module>\u001b[0;34m\u001b[0m\n\u001b[0;32m----> 1\u001b[0;31m \u001b[0mprint\u001b[0m\u001b[0;34m(\u001b[0m\u001b[0mdataframe\u001b[0m\u001b[0;34m.\u001b[0m\u001b[0mhead\u001b[0m\u001b[0;34m(\u001b[0m\u001b[0;36m10\u001b[0m\u001b[0;34m)\u001b[0m\u001b[0;34m)\u001b[0m\u001b[0;34m\u001b[0m\u001b[0;34m\u001b[0m\u001b[0m\n\u001b[0m",
            "\u001b[0;31mNameError\u001b[0m: name 'dataframe' is not defined"
          ]
        }
      ]
    },
    {
      "cell_type": "markdown",
      "source": [
        "***DISPLAYING ONLY THE LAST 5 ROWS OF THE DATAFRAME***"
      ],
      "metadata": {
        "id": "xKpfo5rwd1vG"
      }
    },
    {
      "cell_type": "code",
      "source": [
        "print(dataframe.tail())"
      ],
      "metadata": {
        "colab": {
          "base_uri": "https://localhost:8080/"
        },
        "id": "cneETcEjal1O",
        "outputId": "4f19414d-751b-4d77-84f0-8435560b3b12"
      },
      "execution_count": null,
      "outputs": [
        {
          "output_type": "stream",
          "name": "stdout",
          "text": [
            "       No    InvoiceID Branch       City Customertype  Gender  \\\n",
            "995   996  233-67-5758      C  Naypyitaw       Normal    Male   \n",
            "996   997  303-96-2227      B   Mandalay       Normal  Female   \n",
            "997   998  727-02-1313      A     Yangon       Member    Male   \n",
            "998   999  347-56-2442      A     Yangon       Normal    Male   \n",
            "999  1000  849-09-3807      A     Yangon       Member  Female   \n",
            "\n",
            "             Productline  Unitprice  Quantity      Tax      Total       Date  \\\n",
            "995    Health and beauty      40.35         1   2.0175    42.3675  1/29/2019   \n",
            "996   Home and lifestyle      97.38        10  48.6900  1022.4900   3/2/2019   \n",
            "997   Food and beverages      31.84         1   1.5920    33.4320   2/9/2019   \n",
            "998   Home and lifestyle      65.82         1   3.2910    69.1110  2/22/2019   \n",
            "999  Fashion accessories      88.34         7  30.9190   649.2990  2/18/2019   \n",
            "\n",
            "      Time  Payment    cogs  gross_margin_percentage  gross_iincome  Rating  \n",
            "995  13:46  Ewallet   40.35                 4.761905         2.0175     6.2  \n",
            "996  17:16  Ewallet  973.80                 4.761905        48.6900     4.4  \n",
            "997  13:22     Cash   31.84                 4.761905         1.5920     7.7  \n",
            "998  15:33     Cash   65.82                 4.761905         3.2910     4.1  \n",
            "999  13:28     Cash  618.38                 4.761905        30.9190     6.6  \n"
          ]
        }
      ]
    },
    {
      "cell_type": "markdown",
      "source": [
        "T"
      ],
      "metadata": {
        "id": "NZ77ioa5n8mk"
      }
    },
    {
      "cell_type": "markdown",
      "source": [
        "**DIAPLAYING SPECIFIC COLUMN**"
      ],
      "metadata": {
        "id": "X0wJ480qt8E9"
      }
    },
    {
      "cell_type": "code",
      "source": [
        "print(dataframe[['City'],['Branch']])"
      ],
      "metadata": {
        "id": "_wgnGbzHsx0c"
      },
      "execution_count": null,
      "outputs": []
    },
    {
      "cell_type": "markdown",
      "source": [
        "***TO VIEW THE INDEX OF THE DATAFRAME***"
      ],
      "metadata": {
        "id": "CatREVUwK1o_"
      }
    },
    {
      "cell_type": "code",
      "source": [
        "print(dataframe.index)"
      ],
      "metadata": {
        "colab": {
          "base_uri": "https://localhost:8080/"
        },
        "id": "_8Nm15jYhndR",
        "outputId": "0e9ca7d0-1c95-4f00-8075-0324a1df49de"
      },
      "execution_count": null,
      "outputs": [
        {
          "output_type": "stream",
          "name": "stdout",
          "text": [
            "RangeIndex(start=0, stop=1000, step=1)\n"
          ]
        }
      ]
    },
    {
      "cell_type": "code",
      "source": [
        "for i in dataframe.index:\n",
        "  print(dataframe.City[i],dataframe.Branch[i])"
      ],
      "metadata": {
        "id": "2iTLBiUsK6HP"
      },
      "execution_count": null,
      "outputs": []
    },
    {
      "cell_type": "markdown",
      "source": [
        "***UPLOADING FIFA DATA***"
      ],
      "metadata": {
        "id": "B6C5SWqqsScK"
      }
    },
    {
      "cell_type": "code",
      "source": [
        "import pandas\n",
        "\n"
      ],
      "metadata": {
        "id": "zkV8szProScC"
      },
      "execution_count": null,
      "outputs": []
    },
    {
      "cell_type": "markdown",
      "source": [
        "***PRINTING DATA WITH A MAX VALUE***"
      ],
      "metadata": {
        "id": "Tzl61XmClw3b"
      }
    },
    {
      "cell_type": "code",
      "source": [
        "fifadataframe = pandas.read_csv(\"players_20.csv\")\n",
        "max_overall=fifadataframe.age.idxmax()\n",
        "#max_overall_loc = fifadataframe.overall.idxmax()\n",
        "#person=fifadataframe.loc[max_overall_loc]\n",
        "print(max_overall)\n",
        "#print(person.long_name,\" has the highest overall of \",max_overall)"
      ],
      "metadata": {
        "colab": {
          "base_uri": "https://localhost:8080/"
        },
        "id": "oYLPBp-VosKT",
        "outputId": "d5844b63-8825-43d6-9928-01c5ad9a0c58"
      },
      "execution_count": null,
      "outputs": [
        {
          "output_type": "stream",
          "name": "stdout",
          "text": [
            "11832\n"
          ]
        }
      ]
    },
    {
      "cell_type": "code",
      "source": [
        "print(fifadataframe.head(10))"
      ],
      "metadata": {
        "colab": {
          "base_uri": "https://localhost:8080/"
        },
        "id": "jlYmIUYpj4gr",
        "outputId": "bef0e9ee-4ad8-4d2c-850d-2725a1a58fc1"
      },
      "execution_count": null,
      "outputs": [
        {
          "output_type": "stream",
          "name": "stdout",
          "text": [
            "   sofifa_id                                         player_url  \\\n",
            "0     158023  https://sofifa.com/player/158023/lionel-messi/...   \n",
            "1      20801  https://sofifa.com/player/20801/c-ronaldo-dos-...   \n",
            "2     190871  https://sofifa.com/player/190871/neymar-da-sil...   \n",
            "3     200389  https://sofifa.com/player/200389/jan-oblak/20/...   \n",
            "4     183277  https://sofifa.com/player/183277/eden-hazard/2...   \n",
            "5     192985  https://sofifa.com/player/192985/kevin-de-bruy...   \n",
            "6     192448  https://sofifa.com/player/192448/marc-andre-te...   \n",
            "7     203376  https://sofifa.com/player/203376/virgil-van-di...   \n",
            "8     177003  https://sofifa.com/player/177003/luka-modric/2...   \n",
            "9     209331  https://sofifa.com/player/209331/mohamed-salah...   \n",
            "\n",
            "          short_name                            long_name  age         dob  \\\n",
            "0           L. Messi       Lionel Andrés Messi Cuccittini   32  1987-06-24   \n",
            "1  Cristiano Ronaldo  Cristiano Ronaldo dos Santos Aveiro   34  1985-02-05   \n",
            "2          Neymar Jr        Neymar da Silva Santos Junior   27  1992-02-05   \n",
            "3           J. Oblak                            Jan Oblak   26  1993-01-07   \n",
            "4          E. Hazard                          Eden Hazard   28  1991-01-07   \n",
            "5       K. De Bruyne                      Kevin De Bruyne   28  1991-06-28   \n",
            "6      M. ter Stegen                Marc-André ter Stegen   27  1992-04-30   \n",
            "7        V. van Dijk                      Virgil van Dijk   27  1991-07-08   \n",
            "8          L. Modrić                          Luka Modrić   33  1985-09-09   \n",
            "9           M. Salah                 Mohamed  Salah Ghaly   27  1992-06-15   \n",
            "\n",
            "   height_cm  weight_kg  nationality                 club  ...   lwb   ldm  \\\n",
            "0        170         72    Argentina         FC Barcelona  ...  68+2  66+2   \n",
            "1        187         83     Portugal             Juventus  ...  65+3  61+3   \n",
            "2        175         68       Brazil  Paris Saint-Germain  ...  66+3  61+3   \n",
            "3        188         87     Slovenia      Atlético Madrid  ...   NaN   NaN   \n",
            "4        175         74      Belgium          Real Madrid  ...  66+3  63+3   \n",
            "5        181         70      Belgium      Manchester City  ...  77+3  77+3   \n",
            "6        187         85      Germany         FC Barcelona  ...   NaN   NaN   \n",
            "7        193         92  Netherlands            Liverpool  ...  79+3  83+3   \n",
            "8        172         66      Croatia          Real Madrid  ...  81+3  81+3   \n",
            "9        175         71        Egypt            Liverpool  ...  70+3  67+3   \n",
            "\n",
            "    cdm   rdm   rwb    lb   lcb    cb   rcb    rb  \n",
            "0  66+2  66+2  68+2  63+2  52+2  52+2  52+2  63+2  \n",
            "1  61+3  61+3  65+3  61+3  53+3  53+3  53+3  61+3  \n",
            "2  61+3  61+3  66+3  61+3  46+3  46+3  46+3  61+3  \n",
            "3   NaN   NaN   NaN   NaN   NaN   NaN   NaN   NaN  \n",
            "4  63+3  63+3  66+3  61+3  49+3  49+3  49+3  61+3  \n",
            "5  77+3  77+3  77+3  73+3  66+3  66+3  66+3  73+3  \n",
            "6   NaN   NaN   NaN   NaN   NaN   NaN   NaN   NaN  \n",
            "7  83+3  83+3  79+3  81+3  87+3  87+3  87+3  81+3  \n",
            "8  81+3  81+3  81+3  79+3  72+3  72+3  72+3  79+3  \n",
            "9  67+3  67+3  70+3  66+3  57+3  57+3  57+3  66+3  \n",
            "\n",
            "[10 rows x 104 columns]\n"
          ]
        }
      ]
    },
    {
      "cell_type": "markdown",
      "source": [
        "***PRINTING DATA WITH MIN VALUE***"
      ],
      "metadata": {
        "id": "qQQ-jZtrl6gi"
      }
    },
    {
      "cell_type": "code",
      "source": [
        "min_age=fifadataframe.age.min()\n",
        "min_age_loc = fifadataframe.age.idxmin()\n",
        "person=fifadataframe.loc[min_age_loc]\n",
        "\n",
        "\n",
        "print(person.long_name,\" is the youngest of all players \",\" . His age is \",person.age)"
      ],
      "metadata": {
        "colab": {
          "base_uri": "https://localhost:8080/"
        },
        "id": "K_xVyB8atE7z",
        "outputId": "d9992fb4-814c-4488-bcdb-fa986ead3fd8"
      },
      "execution_count": null,
      "outputs": [
        {
          "output_type": "stream",
          "name": "stdout",
          "text": [
            "Adam Hložek  is the youngest of all players   . His age is  16\n"
          ]
        }
      ]
    },
    {
      "cell_type": "markdown",
      "source": [
        "***PRINTING THE COUNT OF ENTIRE ROWS***"
      ],
      "metadata": {
        "id": "rOn55Mjul_-j"
      }
    },
    {
      "cell_type": "code",
      "source": [
        "playercount = fifadataframe.sofifa_id.count()\n",
        "print(playercount)"
      ],
      "metadata": {
        "colab": {
          "base_uri": "https://localhost:8080/"
        },
        "id": "8dflB5Zet06j",
        "outputId": "5f3238e6-5a51-455f-f734-4597a79feae5"
      },
      "execution_count": null,
      "outputs": [
        {
          "output_type": "stream",
          "name": "stdout",
          "text": [
            "18278\n"
          ]
        }
      ]
    },
    {
      "cell_type": "markdown",
      "source": [
        "***PRINTING THE AVERAGE OF A SPECIFIC COLUMN***"
      ],
      "metadata": {
        "id": "jZ9efMTCmG06"
      }
    },
    {
      "cell_type": "code",
      "source": [
        "overall_average = fifadataframe.overall.mean()\n",
        "print(overall_average)"
      ],
      "metadata": {
        "colab": {
          "base_uri": "https://localhost:8080/"
        },
        "id": "4XkTllDVuUtT",
        "outputId": "34021a76-b19a-4c97-9ac2-3454d9db691a"
      },
      "execution_count": null,
      "outputs": [
        {
          "output_type": "stream",
          "name": "stdout",
          "text": [
            "66.24499398183609\n"
          ]
        }
      ]
    },
    {
      "cell_type": "markdown",
      "source": [
        "***PRINTING THE PLAYERS OF A SPECIFIC TEAM***"
      ],
      "metadata": {
        "id": "DeM0LqPRmehJ"
      }
    },
    {
      "cell_type": "code",
      "source": [
        "for i in fifadataframe.index:\n",
        "  if fifadataframe.club[i] == \"FC Barcelona\":\n",
        "    print(fifadataframe.short_name[i])"
      ],
      "metadata": {
        "colab": {
          "base_uri": "https://localhost:8080/"
        },
        "id": "9Wrl6Vw9mXpT",
        "outputId": "74d1a801-d517-4dfd-e325-e754a6db6fed"
      },
      "execution_count": null,
      "outputs": [
        {
          "output_type": "stream",
          "name": "stdout",
          "text": [
            "L. Messi\n",
            "M. ter Stegen\n",
            "L. Suárez\n",
            "Sergio Busquets\n",
            "A. Griezmann\n",
            "Piqué\n",
            "Jordi Alba\n",
            "S. Umtiti\n",
            "I. Rakitić\n",
            "F. de Jong\n",
            "C. Lenglet\n",
            "Neto\n",
            "O. Dembélé\n",
            "Arthur\n",
            "A. Vidal\n",
            "Nélson Semedo\n",
            "Sergi Roberto\n",
            "Rafinha\n",
            "Junior Firpo\n",
            "Aleñá\n",
            "Riqui Puig\n",
            "J. Todibo\n",
            "M. Wagué\n",
            "H. Abe\n",
            "L. Reis\n",
            "Abel Ruiz\n",
            "Oriol Busquets\n",
            "Carles Pérez\n",
            "Miranda\n",
            "Chumi\n",
            "Álex Collado\n",
            "Jorge Cuenca\n",
            "Iñaki Peña\n"
          ]
        }
      ]
    },
    {
      "cell_type": "markdown",
      "source": [
        "***COUNTING PLAYERS FROM DIFFERENT COUNTRIES***"
      ],
      "metadata": {
        "id": "1Z6H02cAp99-"
      }
    },
    {
      "cell_type": "code",
      "source": [
        "fifadataframe.groupby('nationality').count()"
      ],
      "metadata": {
        "colab": {
          "base_uri": "https://localhost:8080/",
          "height": 536
        },
        "id": "l37GLBPNoa0z",
        "outputId": "4e914748-b017-4ebf-be74-55cb44855035"
      },
      "execution_count": null,
      "outputs": [
        {
          "output_type": "execute_result",
          "data": {
            "text/plain": [
              "                   sofifa_id  player_url  short_name  long_name  age  dob  \\\n",
              "nationality                                                                 \n",
              "Afghanistan                2           2           2          2    2    2   \n",
              "Albania                   43          43          43         43   43   43   \n",
              "Algeria                   50          50          50         50   50   50   \n",
              "Angola                    16          16          16         16   16   16   \n",
              "Antigua & Barbuda          7           7           7          7    7    7   \n",
              "...                      ...         ...         ...        ...  ...  ...   \n",
              "Venezuela                 66          66          66         66   66   66   \n",
              "Vietnam                    1           1           1          1    1    1   \n",
              "Wales                    117         117         117        117  117  117   \n",
              "Zambia                    10          10          10         10   10   10   \n",
              "Zimbabwe                  12          12          12         12   12   12   \n",
              "\n",
              "                   height_cm  weight_kg  club  overall  ...  lwb  ldm  cdm  \\\n",
              "nationality                                             ...                  \n",
              "Afghanistan                2          2     2        2  ...    2    2    2   \n",
              "Albania                   43         43    43       43  ...   40   40   40   \n",
              "Algeria                   50         50    50       50  ...   43   43   43   \n",
              "Angola                    16         16    16       16  ...   16   16   16   \n",
              "Antigua & Barbuda          7          7     7        7  ...    7    7    7   \n",
              "...                      ...        ...   ...      ...  ...  ...  ...  ...   \n",
              "Venezuela                 66         66    66       66  ...   61   61   61   \n",
              "Vietnam                    1          1     1        1  ...    1    1    1   \n",
              "Wales                    117        117   117      117  ...  103  103  103   \n",
              "Zambia                    10         10    10       10  ...   10   10   10   \n",
              "Zimbabwe                  12         12    12       12  ...   12   12   12   \n",
              "\n",
              "                   rdm  rwb   lb  lcb   cb  rcb   rb  \n",
              "nationality                                           \n",
              "Afghanistan          2    2    2    2    2    2    2  \n",
              "Albania             40   40   40   40   40   40   40  \n",
              "Algeria             43   43   43   43   43   43   43  \n",
              "Angola              16   16   16   16   16   16   16  \n",
              "Antigua & Barbuda    7    7    7    7    7    7    7  \n",
              "...                ...  ...  ...  ...  ...  ...  ...  \n",
              "Venezuela           61   61   61   61   61   61   61  \n",
              "Vietnam              1    1    1    1    1    1    1  \n",
              "Wales              103  103  103  103  103  103  103  \n",
              "Zambia              10   10   10   10   10   10   10  \n",
              "Zimbabwe            12   12   12   12   12   12   12  \n",
              "\n",
              "[162 rows x 103 columns]"
            ],
            "text/html": [
              "\n",
              "  <div id=\"df-62516175-1ef1-4313-937f-a54bc65a35f1\">\n",
              "    <div class=\"colab-df-container\">\n",
              "      <div>\n",
              "<style scoped>\n",
              "    .dataframe tbody tr th:only-of-type {\n",
              "        vertical-align: middle;\n",
              "    }\n",
              "\n",
              "    .dataframe tbody tr th {\n",
              "        vertical-align: top;\n",
              "    }\n",
              "\n",
              "    .dataframe thead th {\n",
              "        text-align: right;\n",
              "    }\n",
              "</style>\n",
              "<table border=\"1\" class=\"dataframe\">\n",
              "  <thead>\n",
              "    <tr style=\"text-align: right;\">\n",
              "      <th></th>\n",
              "      <th>sofifa_id</th>\n",
              "      <th>player_url</th>\n",
              "      <th>short_name</th>\n",
              "      <th>long_name</th>\n",
              "      <th>age</th>\n",
              "      <th>dob</th>\n",
              "      <th>height_cm</th>\n",
              "      <th>weight_kg</th>\n",
              "      <th>club</th>\n",
              "      <th>overall</th>\n",
              "      <th>...</th>\n",
              "      <th>lwb</th>\n",
              "      <th>ldm</th>\n",
              "      <th>cdm</th>\n",
              "      <th>rdm</th>\n",
              "      <th>rwb</th>\n",
              "      <th>lb</th>\n",
              "      <th>lcb</th>\n",
              "      <th>cb</th>\n",
              "      <th>rcb</th>\n",
              "      <th>rb</th>\n",
              "    </tr>\n",
              "    <tr>\n",
              "      <th>nationality</th>\n",
              "      <th></th>\n",
              "      <th></th>\n",
              "      <th></th>\n",
              "      <th></th>\n",
              "      <th></th>\n",
              "      <th></th>\n",
              "      <th></th>\n",
              "      <th></th>\n",
              "      <th></th>\n",
              "      <th></th>\n",
              "      <th></th>\n",
              "      <th></th>\n",
              "      <th></th>\n",
              "      <th></th>\n",
              "      <th></th>\n",
              "      <th></th>\n",
              "      <th></th>\n",
              "      <th></th>\n",
              "      <th></th>\n",
              "      <th></th>\n",
              "      <th></th>\n",
              "    </tr>\n",
              "  </thead>\n",
              "  <tbody>\n",
              "    <tr>\n",
              "      <th>Afghanistan</th>\n",
              "      <td>2</td>\n",
              "      <td>2</td>\n",
              "      <td>2</td>\n",
              "      <td>2</td>\n",
              "      <td>2</td>\n",
              "      <td>2</td>\n",
              "      <td>2</td>\n",
              "      <td>2</td>\n",
              "      <td>2</td>\n",
              "      <td>2</td>\n",
              "      <td>...</td>\n",
              "      <td>2</td>\n",
              "      <td>2</td>\n",
              "      <td>2</td>\n",
              "      <td>2</td>\n",
              "      <td>2</td>\n",
              "      <td>2</td>\n",
              "      <td>2</td>\n",
              "      <td>2</td>\n",
              "      <td>2</td>\n",
              "      <td>2</td>\n",
              "    </tr>\n",
              "    <tr>\n",
              "      <th>Albania</th>\n",
              "      <td>43</td>\n",
              "      <td>43</td>\n",
              "      <td>43</td>\n",
              "      <td>43</td>\n",
              "      <td>43</td>\n",
              "      <td>43</td>\n",
              "      <td>43</td>\n",
              "      <td>43</td>\n",
              "      <td>43</td>\n",
              "      <td>43</td>\n",
              "      <td>...</td>\n",
              "      <td>40</td>\n",
              "      <td>40</td>\n",
              "      <td>40</td>\n",
              "      <td>40</td>\n",
              "      <td>40</td>\n",
              "      <td>40</td>\n",
              "      <td>40</td>\n",
              "      <td>40</td>\n",
              "      <td>40</td>\n",
              "      <td>40</td>\n",
              "    </tr>\n",
              "    <tr>\n",
              "      <th>Algeria</th>\n",
              "      <td>50</td>\n",
              "      <td>50</td>\n",
              "      <td>50</td>\n",
              "      <td>50</td>\n",
              "      <td>50</td>\n",
              "      <td>50</td>\n",
              "      <td>50</td>\n",
              "      <td>50</td>\n",
              "      <td>50</td>\n",
              "      <td>50</td>\n",
              "      <td>...</td>\n",
              "      <td>43</td>\n",
              "      <td>43</td>\n",
              "      <td>43</td>\n",
              "      <td>43</td>\n",
              "      <td>43</td>\n",
              "      <td>43</td>\n",
              "      <td>43</td>\n",
              "      <td>43</td>\n",
              "      <td>43</td>\n",
              "      <td>43</td>\n",
              "    </tr>\n",
              "    <tr>\n",
              "      <th>Angola</th>\n",
              "      <td>16</td>\n",
              "      <td>16</td>\n",
              "      <td>16</td>\n",
              "      <td>16</td>\n",
              "      <td>16</td>\n",
              "      <td>16</td>\n",
              "      <td>16</td>\n",
              "      <td>16</td>\n",
              "      <td>16</td>\n",
              "      <td>16</td>\n",
              "      <td>...</td>\n",
              "      <td>16</td>\n",
              "      <td>16</td>\n",
              "      <td>16</td>\n",
              "      <td>16</td>\n",
              "      <td>16</td>\n",
              "      <td>16</td>\n",
              "      <td>16</td>\n",
              "      <td>16</td>\n",
              "      <td>16</td>\n",
              "      <td>16</td>\n",
              "    </tr>\n",
              "    <tr>\n",
              "      <th>Antigua &amp; Barbuda</th>\n",
              "      <td>7</td>\n",
              "      <td>7</td>\n",
              "      <td>7</td>\n",
              "      <td>7</td>\n",
              "      <td>7</td>\n",
              "      <td>7</td>\n",
              "      <td>7</td>\n",
              "      <td>7</td>\n",
              "      <td>7</td>\n",
              "      <td>7</td>\n",
              "      <td>...</td>\n",
              "      <td>7</td>\n",
              "      <td>7</td>\n",
              "      <td>7</td>\n",
              "      <td>7</td>\n",
              "      <td>7</td>\n",
              "      <td>7</td>\n",
              "      <td>7</td>\n",
              "      <td>7</td>\n",
              "      <td>7</td>\n",
              "      <td>7</td>\n",
              "    </tr>\n",
              "    <tr>\n",
              "      <th>...</th>\n",
              "      <td>...</td>\n",
              "      <td>...</td>\n",
              "      <td>...</td>\n",
              "      <td>...</td>\n",
              "      <td>...</td>\n",
              "      <td>...</td>\n",
              "      <td>...</td>\n",
              "      <td>...</td>\n",
              "      <td>...</td>\n",
              "      <td>...</td>\n",
              "      <td>...</td>\n",
              "      <td>...</td>\n",
              "      <td>...</td>\n",
              "      <td>...</td>\n",
              "      <td>...</td>\n",
              "      <td>...</td>\n",
              "      <td>...</td>\n",
              "      <td>...</td>\n",
              "      <td>...</td>\n",
              "      <td>...</td>\n",
              "      <td>...</td>\n",
              "    </tr>\n",
              "    <tr>\n",
              "      <th>Venezuela</th>\n",
              "      <td>66</td>\n",
              "      <td>66</td>\n",
              "      <td>66</td>\n",
              "      <td>66</td>\n",
              "      <td>66</td>\n",
              "      <td>66</td>\n",
              "      <td>66</td>\n",
              "      <td>66</td>\n",
              "      <td>66</td>\n",
              "      <td>66</td>\n",
              "      <td>...</td>\n",
              "      <td>61</td>\n",
              "      <td>61</td>\n",
              "      <td>61</td>\n",
              "      <td>61</td>\n",
              "      <td>61</td>\n",
              "      <td>61</td>\n",
              "      <td>61</td>\n",
              "      <td>61</td>\n",
              "      <td>61</td>\n",
              "      <td>61</td>\n",
              "    </tr>\n",
              "    <tr>\n",
              "      <th>Vietnam</th>\n",
              "      <td>1</td>\n",
              "      <td>1</td>\n",
              "      <td>1</td>\n",
              "      <td>1</td>\n",
              "      <td>1</td>\n",
              "      <td>1</td>\n",
              "      <td>1</td>\n",
              "      <td>1</td>\n",
              "      <td>1</td>\n",
              "      <td>1</td>\n",
              "      <td>...</td>\n",
              "      <td>1</td>\n",
              "      <td>1</td>\n",
              "      <td>1</td>\n",
              "      <td>1</td>\n",
              "      <td>1</td>\n",
              "      <td>1</td>\n",
              "      <td>1</td>\n",
              "      <td>1</td>\n",
              "      <td>1</td>\n",
              "      <td>1</td>\n",
              "    </tr>\n",
              "    <tr>\n",
              "      <th>Wales</th>\n",
              "      <td>117</td>\n",
              "      <td>117</td>\n",
              "      <td>117</td>\n",
              "      <td>117</td>\n",
              "      <td>117</td>\n",
              "      <td>117</td>\n",
              "      <td>117</td>\n",
              "      <td>117</td>\n",
              "      <td>117</td>\n",
              "      <td>117</td>\n",
              "      <td>...</td>\n",
              "      <td>103</td>\n",
              "      <td>103</td>\n",
              "      <td>103</td>\n",
              "      <td>103</td>\n",
              "      <td>103</td>\n",
              "      <td>103</td>\n",
              "      <td>103</td>\n",
              "      <td>103</td>\n",
              "      <td>103</td>\n",
              "      <td>103</td>\n",
              "    </tr>\n",
              "    <tr>\n",
              "      <th>Zambia</th>\n",
              "      <td>10</td>\n",
              "      <td>10</td>\n",
              "      <td>10</td>\n",
              "      <td>10</td>\n",
              "      <td>10</td>\n",
              "      <td>10</td>\n",
              "      <td>10</td>\n",
              "      <td>10</td>\n",
              "      <td>10</td>\n",
              "      <td>10</td>\n",
              "      <td>...</td>\n",
              "      <td>10</td>\n",
              "      <td>10</td>\n",
              "      <td>10</td>\n",
              "      <td>10</td>\n",
              "      <td>10</td>\n",
              "      <td>10</td>\n",
              "      <td>10</td>\n",
              "      <td>10</td>\n",
              "      <td>10</td>\n",
              "      <td>10</td>\n",
              "    </tr>\n",
              "    <tr>\n",
              "      <th>Zimbabwe</th>\n",
              "      <td>12</td>\n",
              "      <td>12</td>\n",
              "      <td>12</td>\n",
              "      <td>12</td>\n",
              "      <td>12</td>\n",
              "      <td>12</td>\n",
              "      <td>12</td>\n",
              "      <td>12</td>\n",
              "      <td>12</td>\n",
              "      <td>12</td>\n",
              "      <td>...</td>\n",
              "      <td>12</td>\n",
              "      <td>12</td>\n",
              "      <td>12</td>\n",
              "      <td>12</td>\n",
              "      <td>12</td>\n",
              "      <td>12</td>\n",
              "      <td>12</td>\n",
              "      <td>12</td>\n",
              "      <td>12</td>\n",
              "      <td>12</td>\n",
              "    </tr>\n",
              "  </tbody>\n",
              "</table>\n",
              "<p>162 rows × 103 columns</p>\n",
              "</div>\n",
              "      <button class=\"colab-df-convert\" onclick=\"convertToInteractive('df-62516175-1ef1-4313-937f-a54bc65a35f1')\"\n",
              "              title=\"Convert this dataframe to an interactive table.\"\n",
              "              style=\"display:none;\">\n",
              "        \n",
              "  <svg xmlns=\"http://www.w3.org/2000/svg\" height=\"24px\"viewBox=\"0 0 24 24\"\n",
              "       width=\"24px\">\n",
              "    <path d=\"M0 0h24v24H0V0z\" fill=\"none\"/>\n",
              "    <path d=\"M18.56 5.44l.94 2.06.94-2.06 2.06-.94-2.06-.94-.94-2.06-.94 2.06-2.06.94zm-11 1L8.5 8.5l.94-2.06 2.06-.94-2.06-.94L8.5 2.5l-.94 2.06-2.06.94zm10 10l.94 2.06.94-2.06 2.06-.94-2.06-.94-.94-2.06-.94 2.06-2.06.94z\"/><path d=\"M17.41 7.96l-1.37-1.37c-.4-.4-.92-.59-1.43-.59-.52 0-1.04.2-1.43.59L10.3 9.45l-7.72 7.72c-.78.78-.78 2.05 0 2.83L4 21.41c.39.39.9.59 1.41.59.51 0 1.02-.2 1.41-.59l7.78-7.78 2.81-2.81c.8-.78.8-2.07 0-2.86zM5.41 20L4 18.59l7.72-7.72 1.47 1.35L5.41 20z\"/>\n",
              "  </svg>\n",
              "      </button>\n",
              "      \n",
              "  <style>\n",
              "    .colab-df-container {\n",
              "      display:flex;\n",
              "      flex-wrap:wrap;\n",
              "      gap: 12px;\n",
              "    }\n",
              "\n",
              "    .colab-df-convert {\n",
              "      background-color: #E8F0FE;\n",
              "      border: none;\n",
              "      border-radius: 50%;\n",
              "      cursor: pointer;\n",
              "      display: none;\n",
              "      fill: #1967D2;\n",
              "      height: 32px;\n",
              "      padding: 0 0 0 0;\n",
              "      width: 32px;\n",
              "    }\n",
              "\n",
              "    .colab-df-convert:hover {\n",
              "      background-color: #E2EBFA;\n",
              "      box-shadow: 0px 1px 2px rgba(60, 64, 67, 0.3), 0px 1px 3px 1px rgba(60, 64, 67, 0.15);\n",
              "      fill: #174EA6;\n",
              "    }\n",
              "\n",
              "    [theme=dark] .colab-df-convert {\n",
              "      background-color: #3B4455;\n",
              "      fill: #D2E3FC;\n",
              "    }\n",
              "\n",
              "    [theme=dark] .colab-df-convert:hover {\n",
              "      background-color: #434B5C;\n",
              "      box-shadow: 0px 1px 3px 1px rgba(0, 0, 0, 0.15);\n",
              "      filter: drop-shadow(0px 1px 2px rgba(0, 0, 0, 0.3));\n",
              "      fill: #FFFFFF;\n",
              "    }\n",
              "  </style>\n",
              "\n",
              "      <script>\n",
              "        const buttonEl =\n",
              "          document.querySelector('#df-62516175-1ef1-4313-937f-a54bc65a35f1 button.colab-df-convert');\n",
              "        buttonEl.style.display =\n",
              "          google.colab.kernel.accessAllowed ? 'block' : 'none';\n",
              "\n",
              "        async function convertToInteractive(key) {\n",
              "          const element = document.querySelector('#df-62516175-1ef1-4313-937f-a54bc65a35f1');\n",
              "          const dataTable =\n",
              "            await google.colab.kernel.invokeFunction('convertToInteractive',\n",
              "                                                     [key], {});\n",
              "          if (!dataTable) return;\n",
              "\n",
              "          const docLinkHtml = 'Like what you see? Visit the ' +\n",
              "            '<a target=\"_blank\" href=https://colab.research.google.com/notebooks/data_table.ipynb>data table notebook</a>'\n",
              "            + ' to learn more about interactive tables.';\n",
              "          element.innerHTML = '';\n",
              "          dataTable['output_type'] = 'display_data';\n",
              "          await google.colab.output.renderOutput(dataTable, element);\n",
              "          const docLink = document.createElement('div');\n",
              "          docLink.innerHTML = docLinkHtml;\n",
              "          element.appendChild(docLink);\n",
              "        }\n",
              "      </script>\n",
              "    </div>\n",
              "  </div>\n",
              "  "
            ]
          },
          "metadata": {},
          "execution_count": 16
        }
      ]
    },
    {
      "cell_type": "markdown",
      "source": [
        "***DISPLAYING THE DETAILS OF PLAYERS OF CERTIAN TEAM***"
      ],
      "metadata": {
        "id": "hONFxH7Sq91W"
      }
    },
    {
      "cell_type": "code",
      "source": [
        "fifadataframe.loc[fifadataframe['club'] == \"FC Barcelona\"]"
      ],
      "metadata": {
        "colab": {
          "base_uri": "https://localhost:8080/",
          "height": 1000
        },
        "id": "bvLilkTmqbgp",
        "outputId": "2a3f7414-d7ae-405f-c54c-23a44a450386"
      },
      "execution_count": null,
      "outputs": [
        {
          "output_type": "execute_result",
          "data": {
            "text/plain": [
              "       sofifa_id                                         player_url  \\\n",
              "0         158023  https://sofifa.com/player/158023/lionel-messi/...   \n",
              "6         192448  https://sofifa.com/player/192448/marc-andre-te...   \n",
              "19        176580  https://sofifa.com/player/176580/luis-suarez/2...   \n",
              "21        189511  https://sofifa.com/player/189511/sergio-busque...   \n",
              "22        194765  https://sofifa.com/player/194765/antoine-griez...   \n",
              "29        152729  https://sofifa.com/player/152729/gerard-pique-...   \n",
              "51        189332  https://sofifa.com/player/189332/jordi-alba-ra...   \n",
              "59        205600  https://sofifa.com/player/205600/samuel-umtiti...   \n",
              "64        168651  https://sofifa.com/player/168651/ivan-rakitic/...   \n",
              "75        228702  https://sofifa.com/player/228702/frenkie-de-jo...   \n",
              "84        220440  https://sofifa.com/player/220440/clement-lengl...   \n",
              "91        194404  https://sofifa.com/player/194404/norberto-mura...   \n",
              "110       231443  https://sofifa.com/player/231443/ousmane-dembe...   \n",
              "115       230658  https://sofifa.com/player/230658/arthur-henriq...   \n",
              "142       181872  https://sofifa.com/player/181872/arturo-vidal/...   \n",
              "249       227928  https://sofifa.com/player/227928/nelson-cabral...   \n",
              "274       199564  https://sofifa.com/player/199564/sergio-robert...   \n",
              "344       201400  https://sofifa.com/player/201400/rafael-alcant...   \n",
              "602       241184  https://sofifa.com/player/241184/hector-junior...   \n",
              "1276      233113  https://sofifa.com/player/233113/carles-alena-...   \n",
              "4042      242816  https://sofifa.com/player/242816/ricard-puig-m...   \n",
              "4045      245388  https://sofifa.com/player/245388/jean-clair-to...   \n",
              "4068      237156  https://sofifa.com/player/237156/moussa-wague/...   \n",
              "4780      237823  https://sofifa.com/player/237823/hiroki-abe/20...   \n",
              "4781      240683  https://sofifa.com/player/240683/ludovit-reis/...   \n",
              "6634      239250  https://sofifa.com/player/239250/abel-ruiz-ort...   \n",
              "7711      239249  https://sofifa.com/player/239249/oriol-busquet...   \n",
              "7712      240654  https://sofifa.com/player/240654/carles-perez-...   \n",
              "7713      240915  https://sofifa.com/player/240915/juan-miranda-...   \n",
              "9908      241810  https://sofifa.com/player/241810/juan-brandari...   \n",
              "9938      242999  https://sofifa.com/player/242999/alex-collado-...   \n",
              "9970      237522  https://sofifa.com/player/237522/jorge-cuenca-...   \n",
              "11042     246139  https://sofifa.com/player/246139/ignacio-pena-...   \n",
              "\n",
              "            short_name                            long_name  age         dob  \\\n",
              "0             L. Messi       Lionel Andrés Messi Cuccittini   32  1987-06-24   \n",
              "6        M. ter Stegen                Marc-André ter Stegen   27  1992-04-30   \n",
              "19           L. Suárez             Luis Alberto Suárez Díaz   32  1987-01-24   \n",
              "21     Sergio Busquets             Sergio Busquets i Burgos   30  1988-07-16   \n",
              "22        A. Griezmann                    Antoine Griezmann   28  1991-03-21   \n",
              "29               Piqué                Gerard Piqué Bernabéu   32  1987-02-02   \n",
              "51          Jordi Alba                     Jordi Alba Ramos   30  1989-03-21   \n",
              "59           S. Umtiti                        Samuel Umtiti   25  1993-11-14   \n",
              "64          I. Rakitić                         Ivan Rakitić   31  1988-03-10   \n",
              "75          F. de Jong                      Frenkie de Jong   22  1997-05-12   \n",
              "84          C. Lenglet                      Clément Lenglet   24  1995-06-17   \n",
              "91                Neto                 Norberto Murara Neto   29  1989-07-19   \n",
              "110         O. Dembélé                      Ousmane Dembélé   22  1997-05-15   \n",
              "115             Arthur  Arthur Henrique Ramos Oliveira Melo   22  1996-08-12   \n",
              "142           A. Vidal                         Arturo Vidal   32  1987-05-22   \n",
              "249      Nélson Semedo                 Nélson Cabral Semedo   25  1993-11-16   \n",
              "274      Sergi Roberto              Sergio Roberto Carnicer   27  1992-02-07   \n",
              "344            Rafinha       Rafael Alcântara do Nascimento   26  1993-02-12   \n",
              "602       Junior Firpo           Héctor Junior Firpo Adamés   22  1996-08-22   \n",
              "1276             Aleñá                Carles Aleñá Castillo   21  1998-01-05   \n",
              "4042        Riqui Puig                    Ricard Puig Martí   19  1999-08-13   \n",
              "4045         J. Todibo                    Jean-Clair Todibo   19  1999-12-30   \n",
              "4068          M. Wagué                         Moussa Wagué   20  1998-10-04   \n",
              "4780            H. Abe                                安部 裕葵   20  1999-01-28   \n",
              "4781           L. Reis                         Ludovit Reis   19  2000-06-01   \n",
              "6634         Abel Ruiz                     Abel Ruiz Ortega   19  2000-01-28   \n",
              "7711    Oriol Busquets                   Oriol Busquets Mas   20  1999-06-20   \n",
              "7712      Carles Pérez                   Carles Pérez Sayol   21  1998-02-16   \n",
              "7713           Miranda                Juan Miranda González   19  2000-01-19   \n",
              "9908             Chumi               Juan Brandáriz Movilla   20  1999-03-02   \n",
              "9938      Álex Collado               Álex Collado Gutiérrez   20  1999-04-22   \n",
              "9970      Jorge Cuenca                 Jorge Cuenca Barreno   19  1999-11-17   \n",
              "11042       Iñaki Peña                Ignacio Peña Sotorres   20  1999-03-02   \n",
              "\n",
              "       height_cm  weight_kg  nationality          club  ...   lwb   ldm   cdm  \\\n",
              "0            170         72    Argentina  FC Barcelona  ...  68+2  66+2  66+2   \n",
              "6            187         85      Germany  FC Barcelona  ...   NaN   NaN   NaN   \n",
              "19           182         86      Uruguay  FC Barcelona  ...  67+5  67+5  67+5   \n",
              "21           189         76        Spain  FC Barcelona  ...  78+3  86+3  86+3   \n",
              "22           176         73       France  FC Barcelona  ...  73+3  71+3  71+3   \n",
              "29           194         85        Spain  FC Barcelona  ...  77+3  83+3  83+3   \n",
              "51           170         68        Spain  FC Barcelona  ...  84+3  81+3  81+3   \n",
              "59           182         75       France  FC Barcelona  ...  77+3  80+3  80+3   \n",
              "64           184         78      Croatia  FC Barcelona  ...  77+3  79+3  79+3   \n",
              "75           180         74  Netherlands  FC Barcelona  ...  81+3  82+3  82+3   \n",
              "84           186         81       France  FC Barcelona  ...  77+2  81+2  81+2   \n",
              "91           190         84       Brazil  FC Barcelona  ...   NaN   NaN   NaN   \n",
              "110          178         67       France  FC Barcelona  ...  64+3  59+3  59+3   \n",
              "115          171         73       Brazil  FC Barcelona  ...  76+2  79+2  79+2   \n",
              "142          180         75        Chile  FC Barcelona  ...  81+3  84+3  84+3   \n",
              "249          177         67     Portugal  FC Barcelona  ...  81+2  77+2  77+2   \n",
              "274          178         68        Spain  FC Barcelona  ...  80+3  79+3  79+3   \n",
              "344          174         71       Brazil  FC Barcelona  ...  72+2  72+2  72+2   \n",
              "602          184         78        Spain  FC Barcelona  ...  77+2  75+2  75+2   \n",
              "1276         180         73        Spain  FC Barcelona  ...  68+2  69+2  69+2   \n",
              "4042         169         56        Spain  FC Barcelona  ...  62+2  63+2  63+2   \n",
              "4045         190         81       France  FC Barcelona  ...  64+2  67+2  67+2   \n",
              "4068         177         70      Senegal  FC Barcelona  ...  69+2  66+2  66+2   \n",
              "4780         171         65        Japan  FC Barcelona  ...  52+2  45+2  45+2   \n",
              "4781         178         75  Netherlands  FC Barcelona  ...  67+2  69+2  69+2   \n",
              "6634         182         73        Spain  FC Barcelona  ...  48+2  48+2  48+2   \n",
              "7711         185         77        Spain  FC Barcelona  ...  62+2  65+2  65+2   \n",
              "7712         172         65        Spain  FC Barcelona  ...  51+2  47+2  47+2   \n",
              "7713         185         76        Spain  FC Barcelona  ...  66+2  62+2  62+2   \n",
              "9908         186         78        Spain  FC Barcelona  ...  59+2  61+2  61+2   \n",
              "9938         177         66        Spain  FC Barcelona  ...  57+2  57+2  57+2   \n",
              "9970         189         76        Spain  FC Barcelona  ...  58+2  62+2  62+2   \n",
              "11042        184         78        Spain  FC Barcelona  ...   NaN   NaN   NaN   \n",
              "\n",
              "        rdm   rwb    lb   lcb    cb   rcb    rb  \n",
              "0      66+2  68+2  63+2  52+2  52+2  52+2  63+2  \n",
              "6       NaN   NaN   NaN   NaN   NaN   NaN   NaN  \n",
              "19     67+5  67+5  64+5  63+5  63+5  63+5  64+5  \n",
              "21     86+3  78+3  78+3  82+3  82+3  82+3  78+3  \n",
              "22     71+3  73+3  70+3  65+3  65+3  65+3  70+3  \n",
              "29     83+3  77+3  78+3  85+3  85+3  85+3  78+3  \n",
              "51     81+3  84+3  84+3  78+3  78+3  78+3  84+3  \n",
              "59     80+3  77+3  79+3  84+3  84+3  84+3  79+3  \n",
              "64     79+3  77+3  75+3  72+3  72+3  72+3  75+3  \n",
              "75     82+3  81+3  79+3  76+3  76+3  76+3  79+3  \n",
              "84     81+2  77+2  79+2  83+2  83+2  83+2  79+2  \n",
              "91      NaN   NaN   NaN   NaN   NaN   NaN   NaN  \n",
              "110    59+3  64+3  59+3  47+3  47+3  47+3  59+3  \n",
              "115    79+2  76+2  74+2  73+2  73+2  73+2  74+2  \n",
              "142    84+3  81+3  82+3  84+3  84+3  84+3  82+3  \n",
              "249    77+2  81+2  80+2  76+2  76+2  76+2  80+2  \n",
              "274    79+3  80+3  79+3  75+3  75+3  75+3  79+3  \n",
              "344    72+2  72+2  70+2  67+2  67+2  67+2  70+2  \n",
              "602    75+2  77+2  77+2  75+2  75+2  75+2  77+2  \n",
              "1276   69+2  68+2  66+2  61+2  61+2  61+2  66+2  \n",
              "4042   63+2  62+2  60+2  55+2  55+2  55+2  60+2  \n",
              "4045   67+2  64+2  65+2  69+2  69+2  69+2  65+2  \n",
              "4068   66+2  69+2  69+2  67+2  67+2  67+2  69+2  \n",
              "4780   45+2  52+2  49+2  41+2  41+2  41+2  49+2  \n",
              "4781   69+2  67+2  67+2  68+2  68+2  68+2  67+2  \n",
              "6634   48+2  48+2  46+2  46+2  46+2  46+2  46+2  \n",
              "7711   65+2  62+2  62+2  63+2  63+2  63+2  62+2  \n",
              "7712   47+2  51+2  49+2  43+2  43+2  43+2  49+2  \n",
              "7713   62+2  66+2  65+2  62+2  62+2  62+2  65+2  \n",
              "9908   61+2  59+2  60+2  64+2  64+2  64+2  60+2  \n",
              "9938   57+2  57+2  56+2  52+2  52+2  52+2  56+2  \n",
              "9970   62+2  58+2  60+2  64+2  64+2  64+2  60+2  \n",
              "11042   NaN   NaN   NaN   NaN   NaN   NaN   NaN  \n",
              "\n",
              "[33 rows x 104 columns]"
            ],
            "text/html": [
              "\n",
              "  <div id=\"df-03d83409-50bc-4a6b-8508-6051a893cf82\">\n",
              "    <div class=\"colab-df-container\">\n",
              "      <div>\n",
              "<style scoped>\n",
              "    .dataframe tbody tr th:only-of-type {\n",
              "        vertical-align: middle;\n",
              "    }\n",
              "\n",
              "    .dataframe tbody tr th {\n",
              "        vertical-align: top;\n",
              "    }\n",
              "\n",
              "    .dataframe thead th {\n",
              "        text-align: right;\n",
              "    }\n",
              "</style>\n",
              "<table border=\"1\" class=\"dataframe\">\n",
              "  <thead>\n",
              "    <tr style=\"text-align: right;\">\n",
              "      <th></th>\n",
              "      <th>sofifa_id</th>\n",
              "      <th>player_url</th>\n",
              "      <th>short_name</th>\n",
              "      <th>long_name</th>\n",
              "      <th>age</th>\n",
              "      <th>dob</th>\n",
              "      <th>height_cm</th>\n",
              "      <th>weight_kg</th>\n",
              "      <th>nationality</th>\n",
              "      <th>club</th>\n",
              "      <th>...</th>\n",
              "      <th>lwb</th>\n",
              "      <th>ldm</th>\n",
              "      <th>cdm</th>\n",
              "      <th>rdm</th>\n",
              "      <th>rwb</th>\n",
              "      <th>lb</th>\n",
              "      <th>lcb</th>\n",
              "      <th>cb</th>\n",
              "      <th>rcb</th>\n",
              "      <th>rb</th>\n",
              "    </tr>\n",
              "  </thead>\n",
              "  <tbody>\n",
              "    <tr>\n",
              "      <th>0</th>\n",
              "      <td>158023</td>\n",
              "      <td>https://sofifa.com/player/158023/lionel-messi/...</td>\n",
              "      <td>L. Messi</td>\n",
              "      <td>Lionel Andrés Messi Cuccittini</td>\n",
              "      <td>32</td>\n",
              "      <td>1987-06-24</td>\n",
              "      <td>170</td>\n",
              "      <td>72</td>\n",
              "      <td>Argentina</td>\n",
              "      <td>FC Barcelona</td>\n",
              "      <td>...</td>\n",
              "      <td>68+2</td>\n",
              "      <td>66+2</td>\n",
              "      <td>66+2</td>\n",
              "      <td>66+2</td>\n",
              "      <td>68+2</td>\n",
              "      <td>63+2</td>\n",
              "      <td>52+2</td>\n",
              "      <td>52+2</td>\n",
              "      <td>52+2</td>\n",
              "      <td>63+2</td>\n",
              "    </tr>\n",
              "    <tr>\n",
              "      <th>6</th>\n",
              "      <td>192448</td>\n",
              "      <td>https://sofifa.com/player/192448/marc-andre-te...</td>\n",
              "      <td>M. ter Stegen</td>\n",
              "      <td>Marc-André ter Stegen</td>\n",
              "      <td>27</td>\n",
              "      <td>1992-04-30</td>\n",
              "      <td>187</td>\n",
              "      <td>85</td>\n",
              "      <td>Germany</td>\n",
              "      <td>FC Barcelona</td>\n",
              "      <td>...</td>\n",
              "      <td>NaN</td>\n",
              "      <td>NaN</td>\n",
              "      <td>NaN</td>\n",
              "      <td>NaN</td>\n",
              "      <td>NaN</td>\n",
              "      <td>NaN</td>\n",
              "      <td>NaN</td>\n",
              "      <td>NaN</td>\n",
              "      <td>NaN</td>\n",
              "      <td>NaN</td>\n",
              "    </tr>\n",
              "    <tr>\n",
              "      <th>19</th>\n",
              "      <td>176580</td>\n",
              "      <td>https://sofifa.com/player/176580/luis-suarez/2...</td>\n",
              "      <td>L. Suárez</td>\n",
              "      <td>Luis Alberto Suárez Díaz</td>\n",
              "      <td>32</td>\n",
              "      <td>1987-01-24</td>\n",
              "      <td>182</td>\n",
              "      <td>86</td>\n",
              "      <td>Uruguay</td>\n",
              "      <td>FC Barcelona</td>\n",
              "      <td>...</td>\n",
              "      <td>67+5</td>\n",
              "      <td>67+5</td>\n",
              "      <td>67+5</td>\n",
              "      <td>67+5</td>\n",
              "      <td>67+5</td>\n",
              "      <td>64+5</td>\n",
              "      <td>63+5</td>\n",
              "      <td>63+5</td>\n",
              "      <td>63+5</td>\n",
              "      <td>64+5</td>\n",
              "    </tr>\n",
              "    <tr>\n",
              "      <th>21</th>\n",
              "      <td>189511</td>\n",
              "      <td>https://sofifa.com/player/189511/sergio-busque...</td>\n",
              "      <td>Sergio Busquets</td>\n",
              "      <td>Sergio Busquets i Burgos</td>\n",
              "      <td>30</td>\n",
              "      <td>1988-07-16</td>\n",
              "      <td>189</td>\n",
              "      <td>76</td>\n",
              "      <td>Spain</td>\n",
              "      <td>FC Barcelona</td>\n",
              "      <td>...</td>\n",
              "      <td>78+3</td>\n",
              "      <td>86+3</td>\n",
              "      <td>86+3</td>\n",
              "      <td>86+3</td>\n",
              "      <td>78+3</td>\n",
              "      <td>78+3</td>\n",
              "      <td>82+3</td>\n",
              "      <td>82+3</td>\n",
              "      <td>82+3</td>\n",
              "      <td>78+3</td>\n",
              "    </tr>\n",
              "    <tr>\n",
              "      <th>22</th>\n",
              "      <td>194765</td>\n",
              "      <td>https://sofifa.com/player/194765/antoine-griez...</td>\n",
              "      <td>A. Griezmann</td>\n",
              "      <td>Antoine Griezmann</td>\n",
              "      <td>28</td>\n",
              "      <td>1991-03-21</td>\n",
              "      <td>176</td>\n",
              "      <td>73</td>\n",
              "      <td>France</td>\n",
              "      <td>FC Barcelona</td>\n",
              "      <td>...</td>\n",
              "      <td>73+3</td>\n",
              "      <td>71+3</td>\n",
              "      <td>71+3</td>\n",
              "      <td>71+3</td>\n",
              "      <td>73+3</td>\n",
              "      <td>70+3</td>\n",
              "      <td>65+3</td>\n",
              "      <td>65+3</td>\n",
              "      <td>65+3</td>\n",
              "      <td>70+3</td>\n",
              "    </tr>\n",
              "    <tr>\n",
              "      <th>29</th>\n",
              "      <td>152729</td>\n",
              "      <td>https://sofifa.com/player/152729/gerard-pique-...</td>\n",
              "      <td>Piqué</td>\n",
              "      <td>Gerard Piqué Bernabéu</td>\n",
              "      <td>32</td>\n",
              "      <td>1987-02-02</td>\n",
              "      <td>194</td>\n",
              "      <td>85</td>\n",
              "      <td>Spain</td>\n",
              "      <td>FC Barcelona</td>\n",
              "      <td>...</td>\n",
              "      <td>77+3</td>\n",
              "      <td>83+3</td>\n",
              "      <td>83+3</td>\n",
              "      <td>83+3</td>\n",
              "      <td>77+3</td>\n",
              "      <td>78+3</td>\n",
              "      <td>85+3</td>\n",
              "      <td>85+3</td>\n",
              "      <td>85+3</td>\n",
              "      <td>78+3</td>\n",
              "    </tr>\n",
              "    <tr>\n",
              "      <th>51</th>\n",
              "      <td>189332</td>\n",
              "      <td>https://sofifa.com/player/189332/jordi-alba-ra...</td>\n",
              "      <td>Jordi Alba</td>\n",
              "      <td>Jordi Alba Ramos</td>\n",
              "      <td>30</td>\n",
              "      <td>1989-03-21</td>\n",
              "      <td>170</td>\n",
              "      <td>68</td>\n",
              "      <td>Spain</td>\n",
              "      <td>FC Barcelona</td>\n",
              "      <td>...</td>\n",
              "      <td>84+3</td>\n",
              "      <td>81+3</td>\n",
              "      <td>81+3</td>\n",
              "      <td>81+3</td>\n",
              "      <td>84+3</td>\n",
              "      <td>84+3</td>\n",
              "      <td>78+3</td>\n",
              "      <td>78+3</td>\n",
              "      <td>78+3</td>\n",
              "      <td>84+3</td>\n",
              "    </tr>\n",
              "    <tr>\n",
              "      <th>59</th>\n",
              "      <td>205600</td>\n",
              "      <td>https://sofifa.com/player/205600/samuel-umtiti...</td>\n",
              "      <td>S. Umtiti</td>\n",
              "      <td>Samuel Umtiti</td>\n",
              "      <td>25</td>\n",
              "      <td>1993-11-14</td>\n",
              "      <td>182</td>\n",
              "      <td>75</td>\n",
              "      <td>France</td>\n",
              "      <td>FC Barcelona</td>\n",
              "      <td>...</td>\n",
              "      <td>77+3</td>\n",
              "      <td>80+3</td>\n",
              "      <td>80+3</td>\n",
              "      <td>80+3</td>\n",
              "      <td>77+3</td>\n",
              "      <td>79+3</td>\n",
              "      <td>84+3</td>\n",
              "      <td>84+3</td>\n",
              "      <td>84+3</td>\n",
              "      <td>79+3</td>\n",
              "    </tr>\n",
              "    <tr>\n",
              "      <th>64</th>\n",
              "      <td>168651</td>\n",
              "      <td>https://sofifa.com/player/168651/ivan-rakitic/...</td>\n",
              "      <td>I. Rakitić</td>\n",
              "      <td>Ivan Rakitić</td>\n",
              "      <td>31</td>\n",
              "      <td>1988-03-10</td>\n",
              "      <td>184</td>\n",
              "      <td>78</td>\n",
              "      <td>Croatia</td>\n",
              "      <td>FC Barcelona</td>\n",
              "      <td>...</td>\n",
              "      <td>77+3</td>\n",
              "      <td>79+3</td>\n",
              "      <td>79+3</td>\n",
              "      <td>79+3</td>\n",
              "      <td>77+3</td>\n",
              "      <td>75+3</td>\n",
              "      <td>72+3</td>\n",
              "      <td>72+3</td>\n",
              "      <td>72+3</td>\n",
              "      <td>75+3</td>\n",
              "    </tr>\n",
              "    <tr>\n",
              "      <th>75</th>\n",
              "      <td>228702</td>\n",
              "      <td>https://sofifa.com/player/228702/frenkie-de-jo...</td>\n",
              "      <td>F. de Jong</td>\n",
              "      <td>Frenkie de Jong</td>\n",
              "      <td>22</td>\n",
              "      <td>1997-05-12</td>\n",
              "      <td>180</td>\n",
              "      <td>74</td>\n",
              "      <td>Netherlands</td>\n",
              "      <td>FC Barcelona</td>\n",
              "      <td>...</td>\n",
              "      <td>81+3</td>\n",
              "      <td>82+3</td>\n",
              "      <td>82+3</td>\n",
              "      <td>82+3</td>\n",
              "      <td>81+3</td>\n",
              "      <td>79+3</td>\n",
              "      <td>76+3</td>\n",
              "      <td>76+3</td>\n",
              "      <td>76+3</td>\n",
              "      <td>79+3</td>\n",
              "    </tr>\n",
              "    <tr>\n",
              "      <th>84</th>\n",
              "      <td>220440</td>\n",
              "      <td>https://sofifa.com/player/220440/clement-lengl...</td>\n",
              "      <td>C. Lenglet</td>\n",
              "      <td>Clément Lenglet</td>\n",
              "      <td>24</td>\n",
              "      <td>1995-06-17</td>\n",
              "      <td>186</td>\n",
              "      <td>81</td>\n",
              "      <td>France</td>\n",
              "      <td>FC Barcelona</td>\n",
              "      <td>...</td>\n",
              "      <td>77+2</td>\n",
              "      <td>81+2</td>\n",
              "      <td>81+2</td>\n",
              "      <td>81+2</td>\n",
              "      <td>77+2</td>\n",
              "      <td>79+2</td>\n",
              "      <td>83+2</td>\n",
              "      <td>83+2</td>\n",
              "      <td>83+2</td>\n",
              "      <td>79+2</td>\n",
              "    </tr>\n",
              "    <tr>\n",
              "      <th>91</th>\n",
              "      <td>194404</td>\n",
              "      <td>https://sofifa.com/player/194404/norberto-mura...</td>\n",
              "      <td>Neto</td>\n",
              "      <td>Norberto Murara Neto</td>\n",
              "      <td>29</td>\n",
              "      <td>1989-07-19</td>\n",
              "      <td>190</td>\n",
              "      <td>84</td>\n",
              "      <td>Brazil</td>\n",
              "      <td>FC Barcelona</td>\n",
              "      <td>...</td>\n",
              "      <td>NaN</td>\n",
              "      <td>NaN</td>\n",
              "      <td>NaN</td>\n",
              "      <td>NaN</td>\n",
              "      <td>NaN</td>\n",
              "      <td>NaN</td>\n",
              "      <td>NaN</td>\n",
              "      <td>NaN</td>\n",
              "      <td>NaN</td>\n",
              "      <td>NaN</td>\n",
              "    </tr>\n",
              "    <tr>\n",
              "      <th>110</th>\n",
              "      <td>231443</td>\n",
              "      <td>https://sofifa.com/player/231443/ousmane-dembe...</td>\n",
              "      <td>O. Dembélé</td>\n",
              "      <td>Ousmane Dembélé</td>\n",
              "      <td>22</td>\n",
              "      <td>1997-05-15</td>\n",
              "      <td>178</td>\n",
              "      <td>67</td>\n",
              "      <td>France</td>\n",
              "      <td>FC Barcelona</td>\n",
              "      <td>...</td>\n",
              "      <td>64+3</td>\n",
              "      <td>59+3</td>\n",
              "      <td>59+3</td>\n",
              "      <td>59+3</td>\n",
              "      <td>64+3</td>\n",
              "      <td>59+3</td>\n",
              "      <td>47+3</td>\n",
              "      <td>47+3</td>\n",
              "      <td>47+3</td>\n",
              "      <td>59+3</td>\n",
              "    </tr>\n",
              "    <tr>\n",
              "      <th>115</th>\n",
              "      <td>230658</td>\n",
              "      <td>https://sofifa.com/player/230658/arthur-henriq...</td>\n",
              "      <td>Arthur</td>\n",
              "      <td>Arthur Henrique Ramos Oliveira Melo</td>\n",
              "      <td>22</td>\n",
              "      <td>1996-08-12</td>\n",
              "      <td>171</td>\n",
              "      <td>73</td>\n",
              "      <td>Brazil</td>\n",
              "      <td>FC Barcelona</td>\n",
              "      <td>...</td>\n",
              "      <td>76+2</td>\n",
              "      <td>79+2</td>\n",
              "      <td>79+2</td>\n",
              "      <td>79+2</td>\n",
              "      <td>76+2</td>\n",
              "      <td>74+2</td>\n",
              "      <td>73+2</td>\n",
              "      <td>73+2</td>\n",
              "      <td>73+2</td>\n",
              "      <td>74+2</td>\n",
              "    </tr>\n",
              "    <tr>\n",
              "      <th>142</th>\n",
              "      <td>181872</td>\n",
              "      <td>https://sofifa.com/player/181872/arturo-vidal/...</td>\n",
              "      <td>A. Vidal</td>\n",
              "      <td>Arturo Vidal</td>\n",
              "      <td>32</td>\n",
              "      <td>1987-05-22</td>\n",
              "      <td>180</td>\n",
              "      <td>75</td>\n",
              "      <td>Chile</td>\n",
              "      <td>FC Barcelona</td>\n",
              "      <td>...</td>\n",
              "      <td>81+3</td>\n",
              "      <td>84+3</td>\n",
              "      <td>84+3</td>\n",
              "      <td>84+3</td>\n",
              "      <td>81+3</td>\n",
              "      <td>82+3</td>\n",
              "      <td>84+3</td>\n",
              "      <td>84+3</td>\n",
              "      <td>84+3</td>\n",
              "      <td>82+3</td>\n",
              "    </tr>\n",
              "    <tr>\n",
              "      <th>249</th>\n",
              "      <td>227928</td>\n",
              "      <td>https://sofifa.com/player/227928/nelson-cabral...</td>\n",
              "      <td>Nélson Semedo</td>\n",
              "      <td>Nélson Cabral Semedo</td>\n",
              "      <td>25</td>\n",
              "      <td>1993-11-16</td>\n",
              "      <td>177</td>\n",
              "      <td>67</td>\n",
              "      <td>Portugal</td>\n",
              "      <td>FC Barcelona</td>\n",
              "      <td>...</td>\n",
              "      <td>81+2</td>\n",
              "      <td>77+2</td>\n",
              "      <td>77+2</td>\n",
              "      <td>77+2</td>\n",
              "      <td>81+2</td>\n",
              "      <td>80+2</td>\n",
              "      <td>76+2</td>\n",
              "      <td>76+2</td>\n",
              "      <td>76+2</td>\n",
              "      <td>80+2</td>\n",
              "    </tr>\n",
              "    <tr>\n",
              "      <th>274</th>\n",
              "      <td>199564</td>\n",
              "      <td>https://sofifa.com/player/199564/sergio-robert...</td>\n",
              "      <td>Sergi Roberto</td>\n",
              "      <td>Sergio Roberto Carnicer</td>\n",
              "      <td>27</td>\n",
              "      <td>1992-02-07</td>\n",
              "      <td>178</td>\n",
              "      <td>68</td>\n",
              "      <td>Spain</td>\n",
              "      <td>FC Barcelona</td>\n",
              "      <td>...</td>\n",
              "      <td>80+3</td>\n",
              "      <td>79+3</td>\n",
              "      <td>79+3</td>\n",
              "      <td>79+3</td>\n",
              "      <td>80+3</td>\n",
              "      <td>79+3</td>\n",
              "      <td>75+3</td>\n",
              "      <td>75+3</td>\n",
              "      <td>75+3</td>\n",
              "      <td>79+3</td>\n",
              "    </tr>\n",
              "    <tr>\n",
              "      <th>344</th>\n",
              "      <td>201400</td>\n",
              "      <td>https://sofifa.com/player/201400/rafael-alcant...</td>\n",
              "      <td>Rafinha</td>\n",
              "      <td>Rafael Alcântara do Nascimento</td>\n",
              "      <td>26</td>\n",
              "      <td>1993-02-12</td>\n",
              "      <td>174</td>\n",
              "      <td>71</td>\n",
              "      <td>Brazil</td>\n",
              "      <td>FC Barcelona</td>\n",
              "      <td>...</td>\n",
              "      <td>72+2</td>\n",
              "      <td>72+2</td>\n",
              "      <td>72+2</td>\n",
              "      <td>72+2</td>\n",
              "      <td>72+2</td>\n",
              "      <td>70+2</td>\n",
              "      <td>67+2</td>\n",
              "      <td>67+2</td>\n",
              "      <td>67+2</td>\n",
              "      <td>70+2</td>\n",
              "    </tr>\n",
              "    <tr>\n",
              "      <th>602</th>\n",
              "      <td>241184</td>\n",
              "      <td>https://sofifa.com/player/241184/hector-junior...</td>\n",
              "      <td>Junior Firpo</td>\n",
              "      <td>Héctor Junior Firpo Adamés</td>\n",
              "      <td>22</td>\n",
              "      <td>1996-08-22</td>\n",
              "      <td>184</td>\n",
              "      <td>78</td>\n",
              "      <td>Spain</td>\n",
              "      <td>FC Barcelona</td>\n",
              "      <td>...</td>\n",
              "      <td>77+2</td>\n",
              "      <td>75+2</td>\n",
              "      <td>75+2</td>\n",
              "      <td>75+2</td>\n",
              "      <td>77+2</td>\n",
              "      <td>77+2</td>\n",
              "      <td>75+2</td>\n",
              "      <td>75+2</td>\n",
              "      <td>75+2</td>\n",
              "      <td>77+2</td>\n",
              "    </tr>\n",
              "    <tr>\n",
              "      <th>1276</th>\n",
              "      <td>233113</td>\n",
              "      <td>https://sofifa.com/player/233113/carles-alena-...</td>\n",
              "      <td>Aleñá</td>\n",
              "      <td>Carles Aleñá Castillo</td>\n",
              "      <td>21</td>\n",
              "      <td>1998-01-05</td>\n",
              "      <td>180</td>\n",
              "      <td>73</td>\n",
              "      <td>Spain</td>\n",
              "      <td>FC Barcelona</td>\n",
              "      <td>...</td>\n",
              "      <td>68+2</td>\n",
              "      <td>69+2</td>\n",
              "      <td>69+2</td>\n",
              "      <td>69+2</td>\n",
              "      <td>68+2</td>\n",
              "      <td>66+2</td>\n",
              "      <td>61+2</td>\n",
              "      <td>61+2</td>\n",
              "      <td>61+2</td>\n",
              "      <td>66+2</td>\n",
              "    </tr>\n",
              "    <tr>\n",
              "      <th>4042</th>\n",
              "      <td>242816</td>\n",
              "      <td>https://sofifa.com/player/242816/ricard-puig-m...</td>\n",
              "      <td>Riqui Puig</td>\n",
              "      <td>Ricard Puig Martí</td>\n",
              "      <td>19</td>\n",
              "      <td>1999-08-13</td>\n",
              "      <td>169</td>\n",
              "      <td>56</td>\n",
              "      <td>Spain</td>\n",
              "      <td>FC Barcelona</td>\n",
              "      <td>...</td>\n",
              "      <td>62+2</td>\n",
              "      <td>63+2</td>\n",
              "      <td>63+2</td>\n",
              "      <td>63+2</td>\n",
              "      <td>62+2</td>\n",
              "      <td>60+2</td>\n",
              "      <td>55+2</td>\n",
              "      <td>55+2</td>\n",
              "      <td>55+2</td>\n",
              "      <td>60+2</td>\n",
              "    </tr>\n",
              "    <tr>\n",
              "      <th>4045</th>\n",
              "      <td>245388</td>\n",
              "      <td>https://sofifa.com/player/245388/jean-clair-to...</td>\n",
              "      <td>J. Todibo</td>\n",
              "      <td>Jean-Clair Todibo</td>\n",
              "      <td>19</td>\n",
              "      <td>1999-12-30</td>\n",
              "      <td>190</td>\n",
              "      <td>81</td>\n",
              "      <td>France</td>\n",
              "      <td>FC Barcelona</td>\n",
              "      <td>...</td>\n",
              "      <td>64+2</td>\n",
              "      <td>67+2</td>\n",
              "      <td>67+2</td>\n",
              "      <td>67+2</td>\n",
              "      <td>64+2</td>\n",
              "      <td>65+2</td>\n",
              "      <td>69+2</td>\n",
              "      <td>69+2</td>\n",
              "      <td>69+2</td>\n",
              "      <td>65+2</td>\n",
              "    </tr>\n",
              "    <tr>\n",
              "      <th>4068</th>\n",
              "      <td>237156</td>\n",
              "      <td>https://sofifa.com/player/237156/moussa-wague/...</td>\n",
              "      <td>M. Wagué</td>\n",
              "      <td>Moussa Wagué</td>\n",
              "      <td>20</td>\n",
              "      <td>1998-10-04</td>\n",
              "      <td>177</td>\n",
              "      <td>70</td>\n",
              "      <td>Senegal</td>\n",
              "      <td>FC Barcelona</td>\n",
              "      <td>...</td>\n",
              "      <td>69+2</td>\n",
              "      <td>66+2</td>\n",
              "      <td>66+2</td>\n",
              "      <td>66+2</td>\n",
              "      <td>69+2</td>\n",
              "      <td>69+2</td>\n",
              "      <td>67+2</td>\n",
              "      <td>67+2</td>\n",
              "      <td>67+2</td>\n",
              "      <td>69+2</td>\n",
              "    </tr>\n",
              "    <tr>\n",
              "      <th>4780</th>\n",
              "      <td>237823</td>\n",
              "      <td>https://sofifa.com/player/237823/hiroki-abe/20...</td>\n",
              "      <td>H. Abe</td>\n",
              "      <td>安部 裕葵</td>\n",
              "      <td>20</td>\n",
              "      <td>1999-01-28</td>\n",
              "      <td>171</td>\n",
              "      <td>65</td>\n",
              "      <td>Japan</td>\n",
              "      <td>FC Barcelona</td>\n",
              "      <td>...</td>\n",
              "      <td>52+2</td>\n",
              "      <td>45+2</td>\n",
              "      <td>45+2</td>\n",
              "      <td>45+2</td>\n",
              "      <td>52+2</td>\n",
              "      <td>49+2</td>\n",
              "      <td>41+2</td>\n",
              "      <td>41+2</td>\n",
              "      <td>41+2</td>\n",
              "      <td>49+2</td>\n",
              "    </tr>\n",
              "    <tr>\n",
              "      <th>4781</th>\n",
              "      <td>240683</td>\n",
              "      <td>https://sofifa.com/player/240683/ludovit-reis/...</td>\n",
              "      <td>L. Reis</td>\n",
              "      <td>Ludovit Reis</td>\n",
              "      <td>19</td>\n",
              "      <td>2000-06-01</td>\n",
              "      <td>178</td>\n",
              "      <td>75</td>\n",
              "      <td>Netherlands</td>\n",
              "      <td>FC Barcelona</td>\n",
              "      <td>...</td>\n",
              "      <td>67+2</td>\n",
              "      <td>69+2</td>\n",
              "      <td>69+2</td>\n",
              "      <td>69+2</td>\n",
              "      <td>67+2</td>\n",
              "      <td>67+2</td>\n",
              "      <td>68+2</td>\n",
              "      <td>68+2</td>\n",
              "      <td>68+2</td>\n",
              "      <td>67+2</td>\n",
              "    </tr>\n",
              "    <tr>\n",
              "      <th>6634</th>\n",
              "      <td>239250</td>\n",
              "      <td>https://sofifa.com/player/239250/abel-ruiz-ort...</td>\n",
              "      <td>Abel Ruiz</td>\n",
              "      <td>Abel Ruiz Ortega</td>\n",
              "      <td>19</td>\n",
              "      <td>2000-01-28</td>\n",
              "      <td>182</td>\n",
              "      <td>73</td>\n",
              "      <td>Spain</td>\n",
              "      <td>FC Barcelona</td>\n",
              "      <td>...</td>\n",
              "      <td>48+2</td>\n",
              "      <td>48+2</td>\n",
              "      <td>48+2</td>\n",
              "      <td>48+2</td>\n",
              "      <td>48+2</td>\n",
              "      <td>46+2</td>\n",
              "      <td>46+2</td>\n",
              "      <td>46+2</td>\n",
              "      <td>46+2</td>\n",
              "      <td>46+2</td>\n",
              "    </tr>\n",
              "    <tr>\n",
              "      <th>7711</th>\n",
              "      <td>239249</td>\n",
              "      <td>https://sofifa.com/player/239249/oriol-busquet...</td>\n",
              "      <td>Oriol Busquets</td>\n",
              "      <td>Oriol Busquets Mas</td>\n",
              "      <td>20</td>\n",
              "      <td>1999-06-20</td>\n",
              "      <td>185</td>\n",
              "      <td>77</td>\n",
              "      <td>Spain</td>\n",
              "      <td>FC Barcelona</td>\n",
              "      <td>...</td>\n",
              "      <td>62+2</td>\n",
              "      <td>65+2</td>\n",
              "      <td>65+2</td>\n",
              "      <td>65+2</td>\n",
              "      <td>62+2</td>\n",
              "      <td>62+2</td>\n",
              "      <td>63+2</td>\n",
              "      <td>63+2</td>\n",
              "      <td>63+2</td>\n",
              "      <td>62+2</td>\n",
              "    </tr>\n",
              "    <tr>\n",
              "      <th>7712</th>\n",
              "      <td>240654</td>\n",
              "      <td>https://sofifa.com/player/240654/carles-perez-...</td>\n",
              "      <td>Carles Pérez</td>\n",
              "      <td>Carles Pérez Sayol</td>\n",
              "      <td>21</td>\n",
              "      <td>1998-02-16</td>\n",
              "      <td>172</td>\n",
              "      <td>65</td>\n",
              "      <td>Spain</td>\n",
              "      <td>FC Barcelona</td>\n",
              "      <td>...</td>\n",
              "      <td>51+2</td>\n",
              "      <td>47+2</td>\n",
              "      <td>47+2</td>\n",
              "      <td>47+2</td>\n",
              "      <td>51+2</td>\n",
              "      <td>49+2</td>\n",
              "      <td>43+2</td>\n",
              "      <td>43+2</td>\n",
              "      <td>43+2</td>\n",
              "      <td>49+2</td>\n",
              "    </tr>\n",
              "    <tr>\n",
              "      <th>7713</th>\n",
              "      <td>240915</td>\n",
              "      <td>https://sofifa.com/player/240915/juan-miranda-...</td>\n",
              "      <td>Miranda</td>\n",
              "      <td>Juan Miranda González</td>\n",
              "      <td>19</td>\n",
              "      <td>2000-01-19</td>\n",
              "      <td>185</td>\n",
              "      <td>76</td>\n",
              "      <td>Spain</td>\n",
              "      <td>FC Barcelona</td>\n",
              "      <td>...</td>\n",
              "      <td>66+2</td>\n",
              "      <td>62+2</td>\n",
              "      <td>62+2</td>\n",
              "      <td>62+2</td>\n",
              "      <td>66+2</td>\n",
              "      <td>65+2</td>\n",
              "      <td>62+2</td>\n",
              "      <td>62+2</td>\n",
              "      <td>62+2</td>\n",
              "      <td>65+2</td>\n",
              "    </tr>\n",
              "    <tr>\n",
              "      <th>9908</th>\n",
              "      <td>241810</td>\n",
              "      <td>https://sofifa.com/player/241810/juan-brandari...</td>\n",
              "      <td>Chumi</td>\n",
              "      <td>Juan Brandáriz Movilla</td>\n",
              "      <td>20</td>\n",
              "      <td>1999-03-02</td>\n",
              "      <td>186</td>\n",
              "      <td>78</td>\n",
              "      <td>Spain</td>\n",
              "      <td>FC Barcelona</td>\n",
              "      <td>...</td>\n",
              "      <td>59+2</td>\n",
              "      <td>61+2</td>\n",
              "      <td>61+2</td>\n",
              "      <td>61+2</td>\n",
              "      <td>59+2</td>\n",
              "      <td>60+2</td>\n",
              "      <td>64+2</td>\n",
              "      <td>64+2</td>\n",
              "      <td>64+2</td>\n",
              "      <td>60+2</td>\n",
              "    </tr>\n",
              "    <tr>\n",
              "      <th>9938</th>\n",
              "      <td>242999</td>\n",
              "      <td>https://sofifa.com/player/242999/alex-collado-...</td>\n",
              "      <td>Álex Collado</td>\n",
              "      <td>Álex Collado Gutiérrez</td>\n",
              "      <td>20</td>\n",
              "      <td>1999-04-22</td>\n",
              "      <td>177</td>\n",
              "      <td>66</td>\n",
              "      <td>Spain</td>\n",
              "      <td>FC Barcelona</td>\n",
              "      <td>...</td>\n",
              "      <td>57+2</td>\n",
              "      <td>57+2</td>\n",
              "      <td>57+2</td>\n",
              "      <td>57+2</td>\n",
              "      <td>57+2</td>\n",
              "      <td>56+2</td>\n",
              "      <td>52+2</td>\n",
              "      <td>52+2</td>\n",
              "      <td>52+2</td>\n",
              "      <td>56+2</td>\n",
              "    </tr>\n",
              "    <tr>\n",
              "      <th>9970</th>\n",
              "      <td>237522</td>\n",
              "      <td>https://sofifa.com/player/237522/jorge-cuenca-...</td>\n",
              "      <td>Jorge Cuenca</td>\n",
              "      <td>Jorge Cuenca Barreno</td>\n",
              "      <td>19</td>\n",
              "      <td>1999-11-17</td>\n",
              "      <td>189</td>\n",
              "      <td>76</td>\n",
              "      <td>Spain</td>\n",
              "      <td>FC Barcelona</td>\n",
              "      <td>...</td>\n",
              "      <td>58+2</td>\n",
              "      <td>62+2</td>\n",
              "      <td>62+2</td>\n",
              "      <td>62+2</td>\n",
              "      <td>58+2</td>\n",
              "      <td>60+2</td>\n",
              "      <td>64+2</td>\n",
              "      <td>64+2</td>\n",
              "      <td>64+2</td>\n",
              "      <td>60+2</td>\n",
              "    </tr>\n",
              "    <tr>\n",
              "      <th>11042</th>\n",
              "      <td>246139</td>\n",
              "      <td>https://sofifa.com/player/246139/ignacio-pena-...</td>\n",
              "      <td>Iñaki Peña</td>\n",
              "      <td>Ignacio Peña Sotorres</td>\n",
              "      <td>20</td>\n",
              "      <td>1999-03-02</td>\n",
              "      <td>184</td>\n",
              "      <td>78</td>\n",
              "      <td>Spain</td>\n",
              "      <td>FC Barcelona</td>\n",
              "      <td>...</td>\n",
              "      <td>NaN</td>\n",
              "      <td>NaN</td>\n",
              "      <td>NaN</td>\n",
              "      <td>NaN</td>\n",
              "      <td>NaN</td>\n",
              "      <td>NaN</td>\n",
              "      <td>NaN</td>\n",
              "      <td>NaN</td>\n",
              "      <td>NaN</td>\n",
              "      <td>NaN</td>\n",
              "    </tr>\n",
              "  </tbody>\n",
              "</table>\n",
              "<p>33 rows × 104 columns</p>\n",
              "</div>\n",
              "      <button class=\"colab-df-convert\" onclick=\"convertToInteractive('df-03d83409-50bc-4a6b-8508-6051a893cf82')\"\n",
              "              title=\"Convert this dataframe to an interactive table.\"\n",
              "              style=\"display:none;\">\n",
              "        \n",
              "  <svg xmlns=\"http://www.w3.org/2000/svg\" height=\"24px\"viewBox=\"0 0 24 24\"\n",
              "       width=\"24px\">\n",
              "    <path d=\"M0 0h24v24H0V0z\" fill=\"none\"/>\n",
              "    <path d=\"M18.56 5.44l.94 2.06.94-2.06 2.06-.94-2.06-.94-.94-2.06-.94 2.06-2.06.94zm-11 1L8.5 8.5l.94-2.06 2.06-.94-2.06-.94L8.5 2.5l-.94 2.06-2.06.94zm10 10l.94 2.06.94-2.06 2.06-.94-2.06-.94-.94-2.06-.94 2.06-2.06.94z\"/><path d=\"M17.41 7.96l-1.37-1.37c-.4-.4-.92-.59-1.43-.59-.52 0-1.04.2-1.43.59L10.3 9.45l-7.72 7.72c-.78.78-.78 2.05 0 2.83L4 21.41c.39.39.9.59 1.41.59.51 0 1.02-.2 1.41-.59l7.78-7.78 2.81-2.81c.8-.78.8-2.07 0-2.86zM5.41 20L4 18.59l7.72-7.72 1.47 1.35L5.41 20z\"/>\n",
              "  </svg>\n",
              "      </button>\n",
              "      \n",
              "  <style>\n",
              "    .colab-df-container {\n",
              "      display:flex;\n",
              "      flex-wrap:wrap;\n",
              "      gap: 12px;\n",
              "    }\n",
              "\n",
              "    .colab-df-convert {\n",
              "      background-color: #E8F0FE;\n",
              "      border: none;\n",
              "      border-radius: 50%;\n",
              "      cursor: pointer;\n",
              "      display: none;\n",
              "      fill: #1967D2;\n",
              "      height: 32px;\n",
              "      padding: 0 0 0 0;\n",
              "      width: 32px;\n",
              "    }\n",
              "\n",
              "    .colab-df-convert:hover {\n",
              "      background-color: #E2EBFA;\n",
              "      box-shadow: 0px 1px 2px rgba(60, 64, 67, 0.3), 0px 1px 3px 1px rgba(60, 64, 67, 0.15);\n",
              "      fill: #174EA6;\n",
              "    }\n",
              "\n",
              "    [theme=dark] .colab-df-convert {\n",
              "      background-color: #3B4455;\n",
              "      fill: #D2E3FC;\n",
              "    }\n",
              "\n",
              "    [theme=dark] .colab-df-convert:hover {\n",
              "      background-color: #434B5C;\n",
              "      box-shadow: 0px 1px 3px 1px rgba(0, 0, 0, 0.15);\n",
              "      filter: drop-shadow(0px 1px 2px rgba(0, 0, 0, 0.3));\n",
              "      fill: #FFFFFF;\n",
              "    }\n",
              "  </style>\n",
              "\n",
              "      <script>\n",
              "        const buttonEl =\n",
              "          document.querySelector('#df-03d83409-50bc-4a6b-8508-6051a893cf82 button.colab-df-convert');\n",
              "        buttonEl.style.display =\n",
              "          google.colab.kernel.accessAllowed ? 'block' : 'none';\n",
              "\n",
              "        async function convertToInteractive(key) {\n",
              "          const element = document.querySelector('#df-03d83409-50bc-4a6b-8508-6051a893cf82');\n",
              "          const dataTable =\n",
              "            await google.colab.kernel.invokeFunction('convertToInteractive',\n",
              "                                                     [key], {});\n",
              "          if (!dataTable) return;\n",
              "\n",
              "          const docLinkHtml = 'Like what you see? Visit the ' +\n",
              "            '<a target=\"_blank\" href=https://colab.research.google.com/notebooks/data_table.ipynb>data table notebook</a>'\n",
              "            + ' to learn more about interactive tables.';\n",
              "          element.innerHTML = '';\n",
              "          dataTable['output_type'] = 'display_data';\n",
              "          await google.colab.output.renderOutput(dataTable, element);\n",
              "          const docLink = document.createElement('div');\n",
              "          docLink.innerHTML = docLinkHtml;\n",
              "          element.appendChild(docLink);\n",
              "        }\n",
              "      </script>\n",
              "    </div>\n",
              "  </div>\n",
              "  "
            ]
          },
          "metadata": {},
          "execution_count": 17
        }
      ]
    },
    {
      "cell_type": "markdown",
      "source": [
        "***PRINTING THE MAX PERFORMANCE VALUE OF A GIVEN CLUB***"
      ],
      "metadata": {
        "id": "oOlFhpb6r4SG"
      }
    },
    {
      "cell_type": "code",
      "source": [
        "fifadataframe['overall'].loc[fifadataframe['club'] == \"FC Barcelona\"].max()"
      ],
      "metadata": {
        "colab": {
          "base_uri": "https://localhost:8080/"
        },
        "id": "rMoXYTfmrMyZ",
        "outputId": "d530151d-c5b0-42cf-e163-1dab60531c98"
      },
      "execution_count": null,
      "outputs": [
        {
          "output_type": "execute_result",
          "data": {
            "text/plain": [
              "94"
            ]
          },
          "metadata": {},
          "execution_count": 20
        }
      ]
    },
    {
      "cell_type": "markdown",
      "source": [
        "***DROPING SPECIFIC COLUMN***"
      ],
      "metadata": {
        "id": "Qo4DxNDFk6gz"
      }
    },
    {
      "cell_type": "code",
      "source": [
        "print(fifadataframe.head())\n",
        "fifadataframe.drop(['lwb'],axis=1)"
      ],
      "metadata": {
        "id": "ef7i1edisjJN",
        "colab": {
          "base_uri": "https://localhost:8080/",
          "height": 1000
        },
        "outputId": "bc9500c0-f2de-4e8a-d142-d8209e19dfd8"
      },
      "execution_count": null,
      "outputs": [
        {
          "output_type": "stream",
          "name": "stdout",
          "text": [
            "   sofifa_id                                         player_url  \\\n",
            "0     158023  https://sofifa.com/player/158023/lionel-messi/...   \n",
            "1      20801  https://sofifa.com/player/20801/c-ronaldo-dos-...   \n",
            "2     190871  https://sofifa.com/player/190871/neymar-da-sil...   \n",
            "3     200389  https://sofifa.com/player/200389/jan-oblak/20/...   \n",
            "4     183277  https://sofifa.com/player/183277/eden-hazard/2...   \n",
            "\n",
            "          short_name                            long_name  age         dob  \\\n",
            "0           L. Messi       Lionel Andrés Messi Cuccittini   32  1987-06-24   \n",
            "1  Cristiano Ronaldo  Cristiano Ronaldo dos Santos Aveiro   34  1985-02-05   \n",
            "2          Neymar Jr        Neymar da Silva Santos Junior   27  1992-02-05   \n",
            "3           J. Oblak                            Jan Oblak   26  1993-01-07   \n",
            "4          E. Hazard                          Eden Hazard   28  1991-01-07   \n",
            "\n",
            "   height_cm  weight_kg nationality                 club  ...   lwb   ldm  \\\n",
            "0        170         72   Argentina         FC Barcelona  ...  68+2  66+2   \n",
            "1        187         83    Portugal             Juventus  ...  65+3  61+3   \n",
            "2        175         68      Brazil  Paris Saint-Germain  ...  66+3  61+3   \n",
            "3        188         87    Slovenia      Atlético Madrid  ...   NaN   NaN   \n",
            "4        175         74     Belgium          Real Madrid  ...  66+3  63+3   \n",
            "\n",
            "    cdm   rdm   rwb    lb   lcb    cb   rcb    rb  \n",
            "0  66+2  66+2  68+2  63+2  52+2  52+2  52+2  63+2  \n",
            "1  61+3  61+3  65+3  61+3  53+3  53+3  53+3  61+3  \n",
            "2  61+3  61+3  66+3  61+3  46+3  46+3  46+3  61+3  \n",
            "3   NaN   NaN   NaN   NaN   NaN   NaN   NaN   NaN  \n",
            "4  63+3  63+3  66+3  61+3  49+3  49+3  49+3  61+3  \n",
            "\n",
            "[5 rows x 104 columns]\n"
          ]
        },
        {
          "output_type": "execute_result",
          "data": {
            "text/plain": [
              "       sofifa_id                                         player_url  \\\n",
              "0         158023  https://sofifa.com/player/158023/lionel-messi/...   \n",
              "1          20801  https://sofifa.com/player/20801/c-ronaldo-dos-...   \n",
              "2         190871  https://sofifa.com/player/190871/neymar-da-sil...   \n",
              "3         200389  https://sofifa.com/player/200389/jan-oblak/20/...   \n",
              "4         183277  https://sofifa.com/player/183277/eden-hazard/2...   \n",
              "...          ...                                                ...   \n",
              "18273     245006  https://sofifa.com/player/245006/shuai-shao/20...   \n",
              "18274     250995  https://sofifa.com/player/250995/mingjie-xiao/...   \n",
              "18275     252332  https://sofifa.com/player/252332/wei-zhang/20/...   \n",
              "18276     251110  https://sofifa.com/player/251110/haijian-wang/...   \n",
              "18277     233449  https://sofifa.com/player/233449/ximing-pan/20...   \n",
              "\n",
              "              short_name                            long_name  age  \\\n",
              "0               L. Messi       Lionel Andrés Messi Cuccittini   32   \n",
              "1      Cristiano Ronaldo  Cristiano Ronaldo dos Santos Aveiro   34   \n",
              "2              Neymar Jr        Neymar da Silva Santos Junior   27   \n",
              "3               J. Oblak                            Jan Oblak   26   \n",
              "4              E. Hazard                          Eden Hazard   28   \n",
              "...                  ...                                  ...  ...   \n",
              "18273         Shao Shuai                                   邵帅   22   \n",
              "18274       Xiao Mingjie                         Mingjie Xiao   22   \n",
              "18275          Zhang Wei                                   张威   19   \n",
              "18276       Wang Haijian                                  汪海健   18   \n",
              "18277         Pan Ximing                                  潘喜明   26   \n",
              "\n",
              "              dob  height_cm  weight_kg nationality  \\\n",
              "0      1987-06-24        170         72   Argentina   \n",
              "1      1985-02-05        187         83    Portugal   \n",
              "2      1992-02-05        175         68      Brazil   \n",
              "3      1993-01-07        188         87    Slovenia   \n",
              "4      1991-01-07        175         74     Belgium   \n",
              "...           ...        ...        ...         ...   \n",
              "18273  1997-03-10        186         79    China PR   \n",
              "18274  1997-01-01        177         66    China PR   \n",
              "18275  2000-05-16        186         75    China PR   \n",
              "18276  2000-08-02        185         74    China PR   \n",
              "18277  1993-01-11        182         78    China PR   \n",
              "\n",
              "                                club  ...    rm   ldm   cdm   rdm   rwb    lb  \\\n",
              "0                       FC Barcelona  ...  92+2  66+2  66+2  66+2  68+2  63+2   \n",
              "1                           Juventus  ...  88+3  61+3  61+3  61+3  65+3  61+3   \n",
              "2                Paris Saint-Germain  ...  89+3  61+3  61+3  61+3  66+3  61+3   \n",
              "3                    Atlético Madrid  ...   NaN   NaN   NaN   NaN   NaN   NaN   \n",
              "4                        Real Madrid  ...  89+3  63+3  63+3  63+3  66+3  61+3   \n",
              "...                              ...  ...   ...   ...   ...   ...   ...   ...   \n",
              "18273               Beijing Renhe FC  ...  33+2  42+2  42+2  42+2  43+2  45+2   \n",
              "18274               Shanghai SIPG FC  ...  35+2  43+2  43+2  43+2  44+2  46+2   \n",
              "18275         Hebei China Fortune FC  ...  45+2  49+2  49+2  49+2  47+2  47+2   \n",
              "18276  Shanghai Greenland Shenhua FC  ...  46+2  48+2  48+2  48+2  48+2  48+2   \n",
              "18277         Hebei China Fortune FC  ...  46+2  49+2  49+2  49+2  48+2  48+2   \n",
              "\n",
              "        lcb    cb   rcb    rb  \n",
              "0      52+2  52+2  52+2  63+2  \n",
              "1      53+3  53+3  53+3  61+3  \n",
              "2      46+3  46+3  46+3  61+3  \n",
              "3       NaN   NaN   NaN   NaN  \n",
              "4      49+3  49+3  49+3  61+3  \n",
              "...     ...   ...   ...   ...  \n",
              "18273  46+2  46+2  46+2  45+2  \n",
              "18274  47+2  47+2  47+2  46+2  \n",
              "18275  49+2  49+2  49+2  47+2  \n",
              "18276  49+2  49+2  49+2  48+2  \n",
              "18277  50+2  50+2  50+2  48+2  \n",
              "\n",
              "[18278 rows x 103 columns]"
            ],
            "text/html": [
              "\n",
              "  <div id=\"df-9332416c-5cf3-4e98-a0f9-de4d4340fdc1\">\n",
              "    <div class=\"colab-df-container\">\n",
              "      <div>\n",
              "<style scoped>\n",
              "    .dataframe tbody tr th:only-of-type {\n",
              "        vertical-align: middle;\n",
              "    }\n",
              "\n",
              "    .dataframe tbody tr th {\n",
              "        vertical-align: top;\n",
              "    }\n",
              "\n",
              "    .dataframe thead th {\n",
              "        text-align: right;\n",
              "    }\n",
              "</style>\n",
              "<table border=\"1\" class=\"dataframe\">\n",
              "  <thead>\n",
              "    <tr style=\"text-align: right;\">\n",
              "      <th></th>\n",
              "      <th>sofifa_id</th>\n",
              "      <th>player_url</th>\n",
              "      <th>short_name</th>\n",
              "      <th>long_name</th>\n",
              "      <th>age</th>\n",
              "      <th>dob</th>\n",
              "      <th>height_cm</th>\n",
              "      <th>weight_kg</th>\n",
              "      <th>nationality</th>\n",
              "      <th>club</th>\n",
              "      <th>...</th>\n",
              "      <th>rm</th>\n",
              "      <th>ldm</th>\n",
              "      <th>cdm</th>\n",
              "      <th>rdm</th>\n",
              "      <th>rwb</th>\n",
              "      <th>lb</th>\n",
              "      <th>lcb</th>\n",
              "      <th>cb</th>\n",
              "      <th>rcb</th>\n",
              "      <th>rb</th>\n",
              "    </tr>\n",
              "  </thead>\n",
              "  <tbody>\n",
              "    <tr>\n",
              "      <th>0</th>\n",
              "      <td>158023</td>\n",
              "      <td>https://sofifa.com/player/158023/lionel-messi/...</td>\n",
              "      <td>L. Messi</td>\n",
              "      <td>Lionel Andrés Messi Cuccittini</td>\n",
              "      <td>32</td>\n",
              "      <td>1987-06-24</td>\n",
              "      <td>170</td>\n",
              "      <td>72</td>\n",
              "      <td>Argentina</td>\n",
              "      <td>FC Barcelona</td>\n",
              "      <td>...</td>\n",
              "      <td>92+2</td>\n",
              "      <td>66+2</td>\n",
              "      <td>66+2</td>\n",
              "      <td>66+2</td>\n",
              "      <td>68+2</td>\n",
              "      <td>63+2</td>\n",
              "      <td>52+2</td>\n",
              "      <td>52+2</td>\n",
              "      <td>52+2</td>\n",
              "      <td>63+2</td>\n",
              "    </tr>\n",
              "    <tr>\n",
              "      <th>1</th>\n",
              "      <td>20801</td>\n",
              "      <td>https://sofifa.com/player/20801/c-ronaldo-dos-...</td>\n",
              "      <td>Cristiano Ronaldo</td>\n",
              "      <td>Cristiano Ronaldo dos Santos Aveiro</td>\n",
              "      <td>34</td>\n",
              "      <td>1985-02-05</td>\n",
              "      <td>187</td>\n",
              "      <td>83</td>\n",
              "      <td>Portugal</td>\n",
              "      <td>Juventus</td>\n",
              "      <td>...</td>\n",
              "      <td>88+3</td>\n",
              "      <td>61+3</td>\n",
              "      <td>61+3</td>\n",
              "      <td>61+3</td>\n",
              "      <td>65+3</td>\n",
              "      <td>61+3</td>\n",
              "      <td>53+3</td>\n",
              "      <td>53+3</td>\n",
              "      <td>53+3</td>\n",
              "      <td>61+3</td>\n",
              "    </tr>\n",
              "    <tr>\n",
              "      <th>2</th>\n",
              "      <td>190871</td>\n",
              "      <td>https://sofifa.com/player/190871/neymar-da-sil...</td>\n",
              "      <td>Neymar Jr</td>\n",
              "      <td>Neymar da Silva Santos Junior</td>\n",
              "      <td>27</td>\n",
              "      <td>1992-02-05</td>\n",
              "      <td>175</td>\n",
              "      <td>68</td>\n",
              "      <td>Brazil</td>\n",
              "      <td>Paris Saint-Germain</td>\n",
              "      <td>...</td>\n",
              "      <td>89+3</td>\n",
              "      <td>61+3</td>\n",
              "      <td>61+3</td>\n",
              "      <td>61+3</td>\n",
              "      <td>66+3</td>\n",
              "      <td>61+3</td>\n",
              "      <td>46+3</td>\n",
              "      <td>46+3</td>\n",
              "      <td>46+3</td>\n",
              "      <td>61+3</td>\n",
              "    </tr>\n",
              "    <tr>\n",
              "      <th>3</th>\n",
              "      <td>200389</td>\n",
              "      <td>https://sofifa.com/player/200389/jan-oblak/20/...</td>\n",
              "      <td>J. Oblak</td>\n",
              "      <td>Jan Oblak</td>\n",
              "      <td>26</td>\n",
              "      <td>1993-01-07</td>\n",
              "      <td>188</td>\n",
              "      <td>87</td>\n",
              "      <td>Slovenia</td>\n",
              "      <td>Atlético Madrid</td>\n",
              "      <td>...</td>\n",
              "      <td>NaN</td>\n",
              "      <td>NaN</td>\n",
              "      <td>NaN</td>\n",
              "      <td>NaN</td>\n",
              "      <td>NaN</td>\n",
              "      <td>NaN</td>\n",
              "      <td>NaN</td>\n",
              "      <td>NaN</td>\n",
              "      <td>NaN</td>\n",
              "      <td>NaN</td>\n",
              "    </tr>\n",
              "    <tr>\n",
              "      <th>4</th>\n",
              "      <td>183277</td>\n",
              "      <td>https://sofifa.com/player/183277/eden-hazard/2...</td>\n",
              "      <td>E. Hazard</td>\n",
              "      <td>Eden Hazard</td>\n",
              "      <td>28</td>\n",
              "      <td>1991-01-07</td>\n",
              "      <td>175</td>\n",
              "      <td>74</td>\n",
              "      <td>Belgium</td>\n",
              "      <td>Real Madrid</td>\n",
              "      <td>...</td>\n",
              "      <td>89+3</td>\n",
              "      <td>63+3</td>\n",
              "      <td>63+3</td>\n",
              "      <td>63+3</td>\n",
              "      <td>66+3</td>\n",
              "      <td>61+3</td>\n",
              "      <td>49+3</td>\n",
              "      <td>49+3</td>\n",
              "      <td>49+3</td>\n",
              "      <td>61+3</td>\n",
              "    </tr>\n",
              "    <tr>\n",
              "      <th>...</th>\n",
              "      <td>...</td>\n",
              "      <td>...</td>\n",
              "      <td>...</td>\n",
              "      <td>...</td>\n",
              "      <td>...</td>\n",
              "      <td>...</td>\n",
              "      <td>...</td>\n",
              "      <td>...</td>\n",
              "      <td>...</td>\n",
              "      <td>...</td>\n",
              "      <td>...</td>\n",
              "      <td>...</td>\n",
              "      <td>...</td>\n",
              "      <td>...</td>\n",
              "      <td>...</td>\n",
              "      <td>...</td>\n",
              "      <td>...</td>\n",
              "      <td>...</td>\n",
              "      <td>...</td>\n",
              "      <td>...</td>\n",
              "      <td>...</td>\n",
              "    </tr>\n",
              "    <tr>\n",
              "      <th>18273</th>\n",
              "      <td>245006</td>\n",
              "      <td>https://sofifa.com/player/245006/shuai-shao/20...</td>\n",
              "      <td>Shao Shuai</td>\n",
              "      <td>邵帅</td>\n",
              "      <td>22</td>\n",
              "      <td>1997-03-10</td>\n",
              "      <td>186</td>\n",
              "      <td>79</td>\n",
              "      <td>China PR</td>\n",
              "      <td>Beijing Renhe FC</td>\n",
              "      <td>...</td>\n",
              "      <td>33+2</td>\n",
              "      <td>42+2</td>\n",
              "      <td>42+2</td>\n",
              "      <td>42+2</td>\n",
              "      <td>43+2</td>\n",
              "      <td>45+2</td>\n",
              "      <td>46+2</td>\n",
              "      <td>46+2</td>\n",
              "      <td>46+2</td>\n",
              "      <td>45+2</td>\n",
              "    </tr>\n",
              "    <tr>\n",
              "      <th>18274</th>\n",
              "      <td>250995</td>\n",
              "      <td>https://sofifa.com/player/250995/mingjie-xiao/...</td>\n",
              "      <td>Xiao Mingjie</td>\n",
              "      <td>Mingjie Xiao</td>\n",
              "      <td>22</td>\n",
              "      <td>1997-01-01</td>\n",
              "      <td>177</td>\n",
              "      <td>66</td>\n",
              "      <td>China PR</td>\n",
              "      <td>Shanghai SIPG FC</td>\n",
              "      <td>...</td>\n",
              "      <td>35+2</td>\n",
              "      <td>43+2</td>\n",
              "      <td>43+2</td>\n",
              "      <td>43+2</td>\n",
              "      <td>44+2</td>\n",
              "      <td>46+2</td>\n",
              "      <td>47+2</td>\n",
              "      <td>47+2</td>\n",
              "      <td>47+2</td>\n",
              "      <td>46+2</td>\n",
              "    </tr>\n",
              "    <tr>\n",
              "      <th>18275</th>\n",
              "      <td>252332</td>\n",
              "      <td>https://sofifa.com/player/252332/wei-zhang/20/...</td>\n",
              "      <td>Zhang Wei</td>\n",
              "      <td>张威</td>\n",
              "      <td>19</td>\n",
              "      <td>2000-05-16</td>\n",
              "      <td>186</td>\n",
              "      <td>75</td>\n",
              "      <td>China PR</td>\n",
              "      <td>Hebei China Fortune FC</td>\n",
              "      <td>...</td>\n",
              "      <td>45+2</td>\n",
              "      <td>49+2</td>\n",
              "      <td>49+2</td>\n",
              "      <td>49+2</td>\n",
              "      <td>47+2</td>\n",
              "      <td>47+2</td>\n",
              "      <td>49+2</td>\n",
              "      <td>49+2</td>\n",
              "      <td>49+2</td>\n",
              "      <td>47+2</td>\n",
              "    </tr>\n",
              "    <tr>\n",
              "      <th>18276</th>\n",
              "      <td>251110</td>\n",
              "      <td>https://sofifa.com/player/251110/haijian-wang/...</td>\n",
              "      <td>Wang Haijian</td>\n",
              "      <td>汪海健</td>\n",
              "      <td>18</td>\n",
              "      <td>2000-08-02</td>\n",
              "      <td>185</td>\n",
              "      <td>74</td>\n",
              "      <td>China PR</td>\n",
              "      <td>Shanghai Greenland Shenhua FC</td>\n",
              "      <td>...</td>\n",
              "      <td>46+2</td>\n",
              "      <td>48+2</td>\n",
              "      <td>48+2</td>\n",
              "      <td>48+2</td>\n",
              "      <td>48+2</td>\n",
              "      <td>48+2</td>\n",
              "      <td>49+2</td>\n",
              "      <td>49+2</td>\n",
              "      <td>49+2</td>\n",
              "      <td>48+2</td>\n",
              "    </tr>\n",
              "    <tr>\n",
              "      <th>18277</th>\n",
              "      <td>233449</td>\n",
              "      <td>https://sofifa.com/player/233449/ximing-pan/20...</td>\n",
              "      <td>Pan Ximing</td>\n",
              "      <td>潘喜明</td>\n",
              "      <td>26</td>\n",
              "      <td>1993-01-11</td>\n",
              "      <td>182</td>\n",
              "      <td>78</td>\n",
              "      <td>China PR</td>\n",
              "      <td>Hebei China Fortune FC</td>\n",
              "      <td>...</td>\n",
              "      <td>46+2</td>\n",
              "      <td>49+2</td>\n",
              "      <td>49+2</td>\n",
              "      <td>49+2</td>\n",
              "      <td>48+2</td>\n",
              "      <td>48+2</td>\n",
              "      <td>50+2</td>\n",
              "      <td>50+2</td>\n",
              "      <td>50+2</td>\n",
              "      <td>48+2</td>\n",
              "    </tr>\n",
              "  </tbody>\n",
              "</table>\n",
              "<p>18278 rows × 103 columns</p>\n",
              "</div>\n",
              "      <button class=\"colab-df-convert\" onclick=\"convertToInteractive('df-9332416c-5cf3-4e98-a0f9-de4d4340fdc1')\"\n",
              "              title=\"Convert this dataframe to an interactive table.\"\n",
              "              style=\"display:none;\">\n",
              "        \n",
              "  <svg xmlns=\"http://www.w3.org/2000/svg\" height=\"24px\"viewBox=\"0 0 24 24\"\n",
              "       width=\"24px\">\n",
              "    <path d=\"M0 0h24v24H0V0z\" fill=\"none\"/>\n",
              "    <path d=\"M18.56 5.44l.94 2.06.94-2.06 2.06-.94-2.06-.94-.94-2.06-.94 2.06-2.06.94zm-11 1L8.5 8.5l.94-2.06 2.06-.94-2.06-.94L8.5 2.5l-.94 2.06-2.06.94zm10 10l.94 2.06.94-2.06 2.06-.94-2.06-.94-.94-2.06-.94 2.06-2.06.94z\"/><path d=\"M17.41 7.96l-1.37-1.37c-.4-.4-.92-.59-1.43-.59-.52 0-1.04.2-1.43.59L10.3 9.45l-7.72 7.72c-.78.78-.78 2.05 0 2.83L4 21.41c.39.39.9.59 1.41.59.51 0 1.02-.2 1.41-.59l7.78-7.78 2.81-2.81c.8-.78.8-2.07 0-2.86zM5.41 20L4 18.59l7.72-7.72 1.47 1.35L5.41 20z\"/>\n",
              "  </svg>\n",
              "      </button>\n",
              "      \n",
              "  <style>\n",
              "    .colab-df-container {\n",
              "      display:flex;\n",
              "      flex-wrap:wrap;\n",
              "      gap: 12px;\n",
              "    }\n",
              "\n",
              "    .colab-df-convert {\n",
              "      background-color: #E8F0FE;\n",
              "      border: none;\n",
              "      border-radius: 50%;\n",
              "      cursor: pointer;\n",
              "      display: none;\n",
              "      fill: #1967D2;\n",
              "      height: 32px;\n",
              "      padding: 0 0 0 0;\n",
              "      width: 32px;\n",
              "    }\n",
              "\n",
              "    .colab-df-convert:hover {\n",
              "      background-color: #E2EBFA;\n",
              "      box-shadow: 0px 1px 2px rgba(60, 64, 67, 0.3), 0px 1px 3px 1px rgba(60, 64, 67, 0.15);\n",
              "      fill: #174EA6;\n",
              "    }\n",
              "\n",
              "    [theme=dark] .colab-df-convert {\n",
              "      background-color: #3B4455;\n",
              "      fill: #D2E3FC;\n",
              "    }\n",
              "\n",
              "    [theme=dark] .colab-df-convert:hover {\n",
              "      background-color: #434B5C;\n",
              "      box-shadow: 0px 1px 3px 1px rgba(0, 0, 0, 0.15);\n",
              "      filter: drop-shadow(0px 1px 2px rgba(0, 0, 0, 0.3));\n",
              "      fill: #FFFFFF;\n",
              "    }\n",
              "  </style>\n",
              "\n",
              "      <script>\n",
              "        const buttonEl =\n",
              "          document.querySelector('#df-9332416c-5cf3-4e98-a0f9-de4d4340fdc1 button.colab-df-convert');\n",
              "        buttonEl.style.display =\n",
              "          google.colab.kernel.accessAllowed ? 'block' : 'none';\n",
              "\n",
              "        async function convertToInteractive(key) {\n",
              "          const element = document.querySelector('#df-9332416c-5cf3-4e98-a0f9-de4d4340fdc1');\n",
              "          const dataTable =\n",
              "            await google.colab.kernel.invokeFunction('convertToInteractive',\n",
              "                                                     [key], {});\n",
              "          if (!dataTable) return;\n",
              "\n",
              "          const docLinkHtml = 'Like what you see? Visit the ' +\n",
              "            '<a target=\"_blank\" href=https://colab.research.google.com/notebooks/data_table.ipynb>data table notebook</a>'\n",
              "            + ' to learn more about interactive tables.';\n",
              "          element.innerHTML = '';\n",
              "          dataTable['output_type'] = 'display_data';\n",
              "          await google.colab.output.renderOutput(dataTable, element);\n",
              "          const docLink = document.createElement('div');\n",
              "          docLink.innerHTML = docLinkHtml;\n",
              "          element.appendChild(docLink);\n",
              "        }\n",
              "      </script>\n",
              "    </div>\n",
              "  </div>\n",
              "  "
            ]
          },
          "metadata": {},
          "execution_count": 73
        }
      ]
    },
    {
      "cell_type": "code",
      "source": [
        "print(fifadataframe.head(2))\n",
        "fifadataframe.drop([5],axis=0)\n",
        "print(\"*****\")\n"
      ],
      "metadata": {
        "id": "nxA20cC2kMrT"
      },
      "execution_count": null,
      "outputs": []
    },
    {
      "cell_type": "code",
      "source": [],
      "metadata": {
        "id": "K-BySe-tkPgc"
      },
      "execution_count": null,
      "outputs": []
    },
    {
      "cell_type": "markdown",
      "source": [
        "#**NumPy**"
      ],
      "metadata": {
        "id": "Hze465zKLAqL"
      }
    },
    {
      "cell_type": "markdown",
      "source": [
        "***IMPORTING NUMPY***"
      ],
      "metadata": {
        "id": "JUksL7unLPLI"
      }
    },
    {
      "cell_type": "code",
      "source": [
        "import numpy as np\n"
      ],
      "metadata": {
        "id": "z3RPtQxxLLtC"
      },
      "execution_count": null,
      "outputs": []
    },
    {
      "cell_type": "markdown",
      "source": [
        "***CREATING 1dARRAY FROM LIST***"
      ],
      "metadata": {
        "id": "qZyN2hWoLZjC"
      }
    },
    {
      "cell_type": "code",
      "source": [
        "student_marks_BA=[12,14,10]\n",
        "marksarray=np.array(student_marks_BA)\n",
        "print(marksarray)"
      ],
      "metadata": {
        "colab": {
          "base_uri": "https://localhost:8080/"
        },
        "id": "EODH44hBLJf_",
        "outputId": "ea040e0f-9e86-47b0-cddb-d2a2e27d1773"
      },
      "execution_count": null,
      "outputs": [
        {
          "output_type": "stream",
          "name": "stdout",
          "text": [
            "[12 14 10]\n"
          ]
        }
      ]
    },
    {
      "cell_type": "markdown",
      "source": [
        "***CREATING ND ARRAY FROM LIST OF LIST***"
      ],
      "metadata": {
        "id": "1ocG91ChL1f7"
      }
    },
    {
      "cell_type": "code",
      "source": [
        "import numpy as np\n",
        "student_marks=[[12,14,10],[15,19,20],[11,15,19]]\n",
        "marksarray=np.array(student_marks)\n",
        "print(marksarray)"
      ],
      "metadata": {
        "colab": {
          "base_uri": "https://localhost:8080/"
        },
        "id": "976Ov0iTKrSq",
        "outputId": "63cdb366-c9e1-46a7-c126-6277f15fcd55"
      },
      "execution_count": null,
      "outputs": [
        {
          "output_type": "stream",
          "name": "stdout",
          "text": [
            "[[12 14 10]\n",
            " [15 19 20]\n",
            " [11 15 19]]\n"
          ]
        }
      ]
    },
    {
      "cell_type": "markdown",
      "source": [
        "***CHECKING THE DIMENSION / SHAPE OF AN EXSISTING ARRAY***"
      ],
      "metadata": {
        "id": "AKGlVi8KMEa0"
      }
    },
    {
      "cell_type": "code",
      "source": [
        "marksarray.shape"
      ],
      "metadata": {
        "colab": {
          "base_uri": "https://localhost:8080/"
        },
        "id": "tQN9p0euMPOa",
        "outputId": "a0390d99-7292-4a16-9cd0-9e6564cb5c3e"
      },
      "execution_count": null,
      "outputs": [
        {
          "output_type": "execute_result",
          "data": {
            "text/plain": [
              "(3, 3)"
            ]
          },
          "metadata": {},
          "execution_count": 9
        }
      ]
    },
    {
      "cell_type": "markdown",
      "source": [
        "***CREATING EVENLY SPACED ARRAY USING ARANGE***"
      ],
      "metadata": {
        "id": "etGichL5MbM6"
      }
    },
    {
      "cell_type": "code",
      "source": [
        "values1= np.arange(20)\n",
        "print(values1)"
      ],
      "metadata": {
        "colab": {
          "base_uri": "https://localhost:8080/"
        },
        "id": "zRX9kiYHNKEi",
        "outputId": "acd2a1a4-df63-4bae-e183-238048ceef1e"
      },
      "execution_count": null,
      "outputs": [
        {
          "output_type": "stream",
          "name": "stdout",
          "text": [
            "[ 0  1  2  3  4  5  6  7  8  9 10 11 12 13 14 15 16 17 18 19]\n"
          ]
        }
      ]
    },
    {
      "cell_type": "code",
      "source": [
        "values=np.arange(1,11)\n",
        "print(values)"
      ],
      "metadata": {
        "colab": {
          "base_uri": "https://localhost:8080/"
        },
        "id": "lFe8ur1OMhMK",
        "outputId": "59da013a-0737-46d7-d7b0-48c99f46fb80"
      },
      "execution_count": null,
      "outputs": [
        {
          "output_type": "stream",
          "name": "stdout",
          "text": [
            "[ 1  2  3  4  5  6  7  8  9 10]\n"
          ]
        }
      ]
    },
    {
      "cell_type": "code",
      "source": [
        "values2=np.arange(5,11)\n",
        "print(values2)"
      ],
      "metadata": {
        "colab": {
          "base_uri": "https://localhost:8080/"
        },
        "id": "w33b_FLMMrhk",
        "outputId": "1ee99c67-f06c-453f-adfc-49e468366e60"
      },
      "execution_count": null,
      "outputs": [
        {
          "output_type": "stream",
          "name": "stdout",
          "text": [
            "[ 5  6  7  8  9 10]\n"
          ]
        }
      ]
    },
    {
      "cell_type": "code",
      "source": [
        "values3=np.arange(1,11,2)\n",
        "print(values3)"
      ],
      "metadata": {
        "colab": {
          "base_uri": "https://localhost:8080/"
        },
        "id": "giXEr1qsNZqq",
        "outputId": "d0a42a9d-a077-497e-cc59-0e8fe29b9e62"
      },
      "execution_count": null,
      "outputs": [
        {
          "output_type": "stream",
          "name": "stdout",
          "text": [
            "[1 3 5 7 9]\n"
          ]
        }
      ]
    },
    {
      "cell_type": "markdown",
      "source": [
        "***CREATING ZERO ARRAY***"
      ],
      "metadata": {
        "id": "_8njzHLhNwiY"
      }
    },
    {
      "cell_type": "code",
      "source": [
        "zeroarray = np.zeros(5)\n",
        "print(zeroarray)"
      ],
      "metadata": {
        "colab": {
          "base_uri": "https://localhost:8080/"
        },
        "id": "HV16poM9N0fa",
        "outputId": "d7c3f32c-6c2d-490e-90a3-12a37658aae2"
      },
      "execution_count": null,
      "outputs": [
        {
          "output_type": "stream",
          "name": "stdout",
          "text": [
            "[0. 0. 0. 0. 0.]\n"
          ]
        }
      ]
    },
    {
      "cell_type": "code",
      "source": [
        "zeroarray = np.zeros((2,6))\n",
        "print(zeroarray)"
      ],
      "metadata": {
        "colab": {
          "base_uri": "https://localhost:8080/"
        },
        "id": "Ot-S4pv_jXhM",
        "outputId": "0abde44b-2154-4104-e435-56dda366c42f"
      },
      "execution_count": null,
      "outputs": [
        {
          "output_type": "stream",
          "name": "stdout",
          "text": [
            "[[0. 0. 0. 0. 0. 0.]\n",
            " [0. 0. 0. 0. 0. 0.]]\n"
          ]
        }
      ]
    },
    {
      "cell_type": "markdown",
      "source": [
        "***CREATING ONES ARRAY***"
      ],
      "metadata": {
        "id": "IbcruEZLh1KU"
      }
    },
    {
      "cell_type": "code",
      "source": [
        "onesarray=np.ones(5)\n",
        "print(onesarray)"
      ],
      "metadata": {
        "colab": {
          "base_uri": "https://localhost:8080/"
        },
        "id": "1Pyj1mxSiILC",
        "outputId": "5d576825-5130-42d8-ed2f-78708293efc4"
      },
      "execution_count": null,
      "outputs": [
        {
          "output_type": "stream",
          "name": "stdout",
          "text": [
            "[1. 1. 1. 1. 1.]\n"
          ]
        }
      ]
    },
    {
      "cell_type": "code",
      "source": [
        "onesarray2 = np.ones((4,2))\n",
        "print(onesarray2)"
      ],
      "metadata": {
        "colab": {
          "base_uri": "https://localhost:8080/"
        },
        "id": "FpJCf-2Gi_L6",
        "outputId": "f422a91c-2957-4f43-df3a-b4e4d2bbcb50"
      },
      "execution_count": null,
      "outputs": [
        {
          "output_type": "stream",
          "name": "stdout",
          "text": [
            "[[1. 1.]\n",
            " [1. 1.]\n",
            " [1. 1.]\n",
            " [1. 1.]]\n"
          ]
        }
      ]
    },
    {
      "cell_type": "markdown",
      "source": [
        "***CREATING 2D IDENTITY MATRIX USING eye()***"
      ],
      "metadata": {
        "id": "DLzaDClGirMa"
      }
    },
    {
      "cell_type": "code",
      "source": [
        "identityarray=np.eye(5)\n",
        "print(identityarray)"
      ],
      "metadata": {
        "colab": {
          "base_uri": "https://localhost:8080/"
        },
        "id": "NwJb3jL1ibXq",
        "outputId": "824ae6c0-146c-4b5b-f8a5-71fef92cc3e3"
      },
      "execution_count": null,
      "outputs": [
        {
          "output_type": "stream",
          "name": "stdout",
          "text": [
            "[[1. 0. 0. 0. 0.]\n",
            " [0. 1. 0. 0. 0.]\n",
            " [0. 0. 1. 0. 0.]\n",
            " [0. 0. 0. 1. 0.]\n",
            " [0. 0. 0. 0. 1.]]\n"
          ]
        }
      ]
    },
    {
      "cell_type": "markdown",
      "source": [
        "***FINDING LENGTH OF ARRAY***"
      ],
      "metadata": {
        "id": "qmyeiSYhjkv8"
      }
    },
    {
      "cell_type": "code",
      "source": [
        "len(zeroarray)"
      ],
      "metadata": {
        "colab": {
          "base_uri": "https://localhost:8080/"
        },
        "id": "l-cO33y-j0bF",
        "outputId": "5fdf6159-e0ca-4b2a-a14a-922f96c64f7c"
      },
      "execution_count": null,
      "outputs": [
        {
          "output_type": "execute_result",
          "data": {
            "text/plain": [
              "2"
            ]
          },
          "metadata": {},
          "execution_count": 21
        }
      ]
    },
    {
      "cell_type": "code",
      "source": [
        "len(onesarray)\n"
      ],
      "metadata": {
        "colab": {
          "base_uri": "https://localhost:8080/"
        },
        "id": "tZ4zXNvJkcky",
        "outputId": "e894a660-8c4b-406f-9605-3bd2f7d289dc"
      },
      "execution_count": null,
      "outputs": [
        {
          "output_type": "execute_result",
          "data": {
            "text/plain": [
              "5"
            ]
          },
          "metadata": {},
          "execution_count": 24
        }
      ]
    },
    {
      "cell_type": "code",
      "source": [
        "len(onesarray2)"
      ],
      "metadata": {
        "colab": {
          "base_uri": "https://localhost:8080/"
        },
        "id": "wFY0wteRkiOM",
        "outputId": "cd18d56a-7ee3-41c3-9514-4844a9e26b37"
      },
      "execution_count": null,
      "outputs": [
        {
          "output_type": "execute_result",
          "data": {
            "text/plain": [
              "4"
            ]
          },
          "metadata": {},
          "execution_count": 25
        }
      ]
    },
    {
      "cell_type": "markdown",
      "source": [
        "***RESHAPING AN ARRAY***"
      ],
      "metadata": {
        "id": "4NbcOr24kqvs"
      }
    },
    {
      "cell_type": "code",
      "source": [
        "firstarray=np.array([[10,20,30,40],[2,4,6,8],[5,10,15,20]])\n",
        "print(firstarray.shape)\n",
        "secondarray=firstarray.reshape(4,3)\n",
        "print(firstarray)\n",
        "print(\"*****\")\n",
        "print(len(firstarray))\n",
        "print(\"*****\")\n",
        "print(secondarray)\n",
        "third_array=firstarray.reshape(6,2)\n",
        "print(third_array)"
      ],
      "metadata": {
        "colab": {
          "base_uri": "https://localhost:8080/"
        },
        "id": "qFbbfAYEkvSe",
        "outputId": "160d4fef-8798-4b37-be5f-973f426efc9e"
      },
      "execution_count": null,
      "outputs": [
        {
          "output_type": "stream",
          "name": "stdout",
          "text": [
            "(3, 4)\n",
            "[[10 20 30 40]\n",
            " [ 2  4  6  8]\n",
            " [ 5 10 15 20]]\n",
            "*****\n",
            "3\n",
            "*****\n",
            "[[10 20 30]\n",
            " [40  2  4]\n",
            " [ 6  8  5]\n",
            " [10 15 20]]\n",
            "[[10 20]\n",
            " [30 40]\n",
            " [ 2  4]\n",
            " [ 6  8]\n",
            " [ 5 10]\n",
            " [15 20]]\n"
          ]
        }
      ]
    },
    {
      "cell_type": "markdown",
      "source": [
        "***CREATING AN ARRAY WITH EVENLY SPACED VALUES WITHIN THE RANGE***"
      ],
      "metadata": {
        "id": "W5_nWxH7mTJT"
      }
    },
    {
      "cell_type": "code",
      "source": [
        "val=np.linspace(1,10)\n",
        "print(val)"
      ],
      "metadata": {
        "colab": {
          "base_uri": "https://localhost:8080/"
        },
        "id": "0QALGgEmmiQL",
        "outputId": "b54edcd1-23e2-431d-92f5-f854553dd7d9"
      },
      "execution_count": null,
      "outputs": [
        {
          "output_type": "stream",
          "name": "stdout",
          "text": [
            "[ 1.          1.18367347  1.36734694  1.55102041  1.73469388  1.91836735\n",
            "  2.10204082  2.28571429  2.46938776  2.65306122  2.83673469  3.02040816\n",
            "  3.20408163  3.3877551   3.57142857  3.75510204  3.93877551  4.12244898\n",
            "  4.30612245  4.48979592  4.67346939  4.85714286  5.04081633  5.2244898\n",
            "  5.40816327  5.59183673  5.7755102   5.95918367  6.14285714  6.32653061\n",
            "  6.51020408  6.69387755  6.87755102  7.06122449  7.24489796  7.42857143\n",
            "  7.6122449   7.79591837  7.97959184  8.16326531  8.34693878  8.53061224\n",
            "  8.71428571  8.89795918  9.08163265  9.26530612  9.44897959  9.63265306\n",
            "  9.81632653 10.        ]\n"
          ]
        }
      ]
    },
    {
      "cell_type": "code",
      "source": [
        "val=np.linspace(1,10,10)\n",
        "print(val)"
      ],
      "metadata": {
        "colab": {
          "base_uri": "https://localhost:8080/"
        },
        "id": "5g-ta2HonIBn",
        "outputId": "a2bd9a2c-1a46-4eca-ca6f-6c8a8291c5cc"
      },
      "execution_count": null,
      "outputs": [
        {
          "output_type": "stream",
          "name": "stdout",
          "text": [
            "[ 1.  2.  3.  4.  5.  6.  7.  8.  9. 10.]\n"
          ]
        }
      ]
    },
    {
      "cell_type": "code",
      "source": [
        "val=np.linspace(1,10,20)\n",
        "print(val)"
      ],
      "metadata": {
        "colab": {
          "base_uri": "https://localhost:8080/"
        },
        "id": "TX8bwf96nKj3",
        "outputId": "f763a484-0d14-402a-cce6-f3e5a2312fb3"
      },
      "execution_count": null,
      "outputs": [
        {
          "output_type": "stream",
          "name": "stdout",
          "text": [
            "[ 1.          1.47368421  1.94736842  2.42105263  2.89473684  3.36842105\n",
            "  3.84210526  4.31578947  4.78947368  5.26315789  5.73684211  6.21052632\n",
            "  6.68421053  7.15789474  7.63157895  8.10526316  8.57894737  9.05263158\n",
            "  9.52631579 10.        ]\n"
          ]
        }
      ]
    },
    {
      "cell_type": "code",
      "source": [],
      "metadata": {
        "id": "RB3LS9Bines-"
      },
      "execution_count": null,
      "outputs": []
    },
    {
      "cell_type": "markdown",
      "source": [
        "***TO GENERATE RANDOM VALUES BETWEEN O AND 1***"
      ],
      "metadata": {
        "id": "-h-vBVHjBUpz"
      }
    },
    {
      "cell_type": "code",
      "source": [
        "array=np.random.rand(3,3)\n",
        "print(array)"
      ],
      "metadata": {
        "colab": {
          "base_uri": "https://localhost:8080/"
        },
        "id": "iFnlT6p_BaWi",
        "outputId": "fb87542b-990e-42e3-cb05-f202dcd5e848"
      },
      "execution_count": null,
      "outputs": [
        {
          "output_type": "stream",
          "name": "stdout",
          "text": [
            "[[0.29848783 0.2352203  0.27682941]\n",
            " [0.90886021 0.79411967 0.63258742]\n",
            " [0.99147448 0.41783798 0.43994322]]\n"
          ]
        }
      ]
    },
    {
      "cell_type": "code",
      "source": [],
      "metadata": {
        "id": "cBFPyvMqDYTF"
      },
      "execution_count": null,
      "outputs": []
    },
    {
      "cell_type": "markdown",
      "source": [
        "***TO GENERATE RANDOM INTEGER VALUES***"
      ],
      "metadata": {
        "id": "CXWifdBMDmpa"
      }
    },
    {
      "cell_type": "markdown",
      "source": [],
      "metadata": {
        "id": "OpJiYRZXEZEe"
      }
    },
    {
      "cell_type": "code",
      "source": [
        "values=np.random.randint(1,3,5)\n",
        "print(values)"
      ],
      "metadata": {
        "colab": {
          "base_uri": "https://localhost:8080/"
        },
        "id": "U1vh5EI1DuhD",
        "outputId": "cfb23728-805a-4f24-ddcd-3d417bd6171f"
      },
      "execution_count": null,
      "outputs": [
        {
          "output_type": "stream",
          "name": "stdout",
          "text": [
            "[1 2 1 1 2]\n"
          ]
        }
      ]
    },
    {
      "cell_type": "code",
      "source": [
        "values=np.random.randint(1,20,8)\n",
        "print(values)"
      ],
      "metadata": {
        "colab": {
          "base_uri": "https://localhost:8080/"
        },
        "id": "8eJbfwjkEc2a",
        "outputId": "21d293f5-03ed-4b29-a5f7-a3cff7dada08"
      },
      "execution_count": null,
      "outputs": [
        {
          "output_type": "stream",
          "name": "stdout",
          "text": [
            "[16  4  5  3 10  6 13 14]\n"
          ]
        }
      ]
    },
    {
      "cell_type": "code",
      "source": [
        "values.reshape(4,2)"
      ],
      "metadata": {
        "colab": {
          "base_uri": "https://localhost:8080/"
        },
        "id": "CQNKefCTEoLk",
        "outputId": "005aba8c-c59e-4700-9c90-bae42695eec9"
      },
      "execution_count": null,
      "outputs": [
        {
          "output_type": "execute_result",
          "data": {
            "text/plain": [
              "array([[16,  4],\n",
              "       [ 5,  3],\n",
              "       [10,  6],\n",
              "       [13, 14]])"
            ]
          },
          "metadata": {},
          "execution_count": 16
        }
      ]
    },
    {
      "cell_type": "code",
      "source": [
        "randshaped = np.random.randint(1,20,(5,3))\n",
        "print(randshaped)"
      ],
      "metadata": {
        "colab": {
          "base_uri": "https://localhost:8080/"
        },
        "id": "ZGAzdZA4E7nj",
        "outputId": "4827e8ad-bfed-4283-cd92-f0e9a6ce1846"
      },
      "execution_count": null,
      "outputs": [
        {
          "output_type": "stream",
          "name": "stdout",
          "text": [
            "[[14  6 14]\n",
            " [17 10 11]\n",
            " [16 10  4]\n",
            " [10  6  9]\n",
            " [18  8  9]]\n"
          ]
        }
      ]
    },
    {
      "cell_type": "markdown",
      "source": [
        "***ACCESSING VALUES FROM ARRAY USING INDEX***"
      ],
      "metadata": {
        "id": "4TNG4myaMwKX"
      }
    },
    {
      "cell_type": "code",
      "source": [
        "values=np.random.randint(10,20,5)\n",
        "print(values)\n",
        "print(values[0])"
      ],
      "metadata": {
        "colab": {
          "base_uri": "https://localhost:8080/"
        },
        "id": "Z6bx-k5kNPcx",
        "outputId": "206c738a-354e-4101-d9a8-3f0f7402f24d"
      },
      "execution_count": null,
      "outputs": [
        {
          "output_type": "stream",
          "name": "stdout",
          "text": [
            "[15 15 10 14 13]\n",
            "15\n"
          ]
        }
      ]
    },
    {
      "cell_type": "code",
      "source": [
        "values=np.random.randint(10,20,5)\n",
        "print(values)\n",
        "print(values[-1])"
      ],
      "metadata": {
        "colab": {
          "base_uri": "https://localhost:8080/"
        },
        "id": "DHfKBOPyQFcQ",
        "outputId": "95c1341f-e2a9-47f8-f458-76e81f90ff1a"
      },
      "execution_count": null,
      "outputs": [
        {
          "output_type": "stream",
          "name": "stdout",
          "text": [
            "[13 11 17 11 16]\n",
            "16\n"
          ]
        }
      ]
    },
    {
      "cell_type": "code",
      "source": [
        "values=np.random.randint(10,20,(3,6))\n",
        "print(values)\n",
        "print(\"******\")\n",
        "print(values[0])"
      ],
      "metadata": {
        "colab": {
          "base_uri": "https://localhost:8080/"
        },
        "id": "p_veKBYcPLBh",
        "outputId": "452354b7-07f7-47f0-9b71-0a9ccffc74b3"
      },
      "execution_count": null,
      "outputs": [
        {
          "output_type": "stream",
          "name": "stdout",
          "text": [
            "[[18 12 16 17 16 17]\n",
            " [18 14 12 10 11 13]\n",
            " [13 11 10 19 15 15]]\n",
            "******\n",
            "[18 12 16 17 16 17]\n"
          ]
        }
      ]
    },
    {
      "cell_type": "code",
      "source": [
        "values=np.random.randint(10,20,(3,6))\n",
        "print(values)\n",
        "print(\"******\")\n",
        "print(values[-1])"
      ],
      "metadata": {
        "colab": {
          "base_uri": "https://localhost:8080/"
        },
        "id": "sDYhRCg7Qb0a",
        "outputId": "5701b9df-8495-4265-9e65-8e9e9e54f7c7"
      },
      "execution_count": null,
      "outputs": [
        {
          "output_type": "stream",
          "name": "stdout",
          "text": [
            "[[17 19 16 17 16 16]\n",
            " [17 17 15 17 10 13]\n",
            " [10 10 14 11 14 14]]\n",
            "******\n",
            "[10 10 14 11 14 14]\n"
          ]
        }
      ]
    },
    {
      "cell_type": "code",
      "source": [
        "values=np.random.randint(10,20,(6,3))\n",
        "print(values)\n",
        "print(\"******\")\n",
        "print(values[0][1])"
      ],
      "metadata": {
        "colab": {
          "base_uri": "https://localhost:8080/"
        },
        "id": "gbSLRUyRPr7C",
        "outputId": "82afb234-24dd-4c99-bfc8-e2320b84c1bc"
      },
      "execution_count": null,
      "outputs": [
        {
          "output_type": "stream",
          "name": "stdout",
          "text": [
            "[[15 11 10]\n",
            " [13 17 18]\n",
            " [16 15 10]\n",
            " [18 18 14]\n",
            " [19 11 16]\n",
            " [13 16 18]]\n",
            "******\n",
            "11\n"
          ]
        }
      ]
    },
    {
      "cell_type": "markdown",
      "source": [
        "***ACCESSING ELEMENTS OF A SPECIFIC RANGE***"
      ],
      "metadata": {
        "id": "IaQdCysLcaaE"
      }
    },
    {
      "cell_type": "code",
      "source": [
        "print(values[0:2])"
      ],
      "metadata": {
        "colab": {
          "base_uri": "https://localhost:8080/"
        },
        "id": "uKL1zxP9aX4I",
        "outputId": "20340658-aef0-4d47-d41b-d61b52485154"
      },
      "execution_count": null,
      "outputs": [
        {
          "output_type": "stream",
          "name": "stdout",
          "text": [
            "[[15 11 10]\n",
            " [13 17 18]]\n"
          ]
        }
      ]
    },
    {
      "cell_type": "code",
      "source": [
        "print(values[:2])"
      ],
      "metadata": {
        "colab": {
          "base_uri": "https://localhost:8080/"
        },
        "id": "yh-0ip0gcrxL",
        "outputId": "4a53ad60-3c2b-4615-dc60-54c032e7fd80"
      },
      "execution_count": null,
      "outputs": [
        {
          "output_type": "stream",
          "name": "stdout",
          "text": [
            "[[15 11 10]\n",
            " [13 17 18]]\n"
          ]
        }
      ]
    },
    {
      "cell_type": "code",
      "source": [
        "print(values[0:])"
      ],
      "metadata": {
        "colab": {
          "base_uri": "https://localhost:8080/"
        },
        "id": "vr1Uwi6KcuJM",
        "outputId": "0ae3f84c-03ee-4027-88f2-e30dc54c026f"
      },
      "execution_count": null,
      "outputs": [
        {
          "output_type": "stream",
          "name": "stdout",
          "text": [
            "[[15 11 10]\n",
            " [13 17 18]\n",
            " [16 15 10]\n",
            " [18 18 14]\n",
            " [19 11 16]\n",
            " [13 16 18]]\n"
          ]
        }
      ]
    },
    {
      "cell_type": "code",
      "source": [
        "print(values[2:5])"
      ],
      "metadata": {
        "colab": {
          "base_uri": "https://localhost:8080/"
        },
        "id": "JK0QTGbEcx0m",
        "outputId": "c93f14da-84ee-4952-9f82-36e9116fddc9"
      },
      "execution_count": null,
      "outputs": [
        {
          "output_type": "stream",
          "name": "stdout",
          "text": [
            "[[16 15 10]\n",
            " [18 18 14]\n",
            " [19 11 16]]\n"
          ]
        }
      ]
    },
    {
      "cell_type": "code",
      "source": [
        "print(values[2,2])"
      ],
      "metadata": {
        "colab": {
          "base_uri": "https://localhost:8080/"
        },
        "id": "UlrKRbOhdE5c",
        "outputId": "7c3c75b6-9175-4537-c9c5-0cf7c43ca28f"
      },
      "execution_count": null,
      "outputs": [
        {
          "output_type": "stream",
          "name": "stdout",
          "text": [
            "10\n"
          ]
        }
      ]
    },
    {
      "cell_type": "markdown",
      "source": [],
      "metadata": {
        "id": "49lbTgYIenJz"
      }
    },
    {
      "cell_type": "code",
      "source": [
        "print(values[2][2])"
      ],
      "metadata": {
        "colab": {
          "base_uri": "https://localhost:8080/"
        },
        "id": "KCHWpntycxga",
        "outputId": "e7fb6651-1412-41e0-8c91-f02edd732475"
      },
      "execution_count": null,
      "outputs": [
        {
          "output_type": "stream",
          "name": "stdout",
          "text": [
            "10\n"
          ]
        }
      ]
    },
    {
      "cell_type": "markdown",
      "source": [
        "Specific Row, Only certain column range"
      ],
      "metadata": {
        "id": "i0HHoaVJeOdL"
      }
    },
    {
      "cell_type": "code",
      "source": [
        "print(values[2,0:2])"
      ],
      "metadata": {
        "colab": {
          "base_uri": "https://localhost:8080/"
        },
        "id": "wuyAr8HIdiPy",
        "outputId": "a1cb93b7-9f09-4954-ef45-5273ca286b00"
      },
      "execution_count": null,
      "outputs": [
        {
          "output_type": "stream",
          "name": "stdout",
          "text": [
            "[16 15]\n"
          ]
        }
      ]
    },
    {
      "cell_type": "markdown",
      "source": [
        "Certain row range, selected column"
      ],
      "metadata": {
        "id": "y9LARGb4ehkC"
      }
    },
    {
      "cell_type": "code",
      "source": [
        "print(values)\n",
        "print(\"*******\")\n",
        "print(values[2:4,1])"
      ],
      "metadata": {
        "colab": {
          "base_uri": "https://localhost:8080/"
        },
        "id": "BRMjVCWCen_4",
        "outputId": "bcf72937-06f5-43b7-bf3d-1db8302714dc"
      },
      "execution_count": null,
      "outputs": [
        {
          "output_type": "stream",
          "name": "stdout",
          "text": [
            "[[15 11 10]\n",
            " [13 17 18]\n",
            " [16 15 10]\n",
            " [18 18 14]\n",
            " [19 11 16]\n",
            " [13 16 18]]\n",
            "*******\n",
            "[15 18]\n"
          ]
        }
      ]
    },
    {
      "cell_type": "markdown",
      "source": [
        "Row in range, Column  in range"
      ],
      "metadata": {
        "id": "6M-HQmhUe9bu"
      }
    },
    {
      "cell_type": "code",
      "source": [
        "print(values)\n",
        "print(\"*******\")\n",
        "print(values[2:4,0:2])"
      ],
      "metadata": {
        "colab": {
          "base_uri": "https://localhost:8080/"
        },
        "id": "4tmAzIH9fCuL",
        "outputId": "ef42436b-38f2-4e65-9bdd-73d199287cf2"
      },
      "execution_count": null,
      "outputs": [
        {
          "output_type": "stream",
          "name": "stdout",
          "text": [
            "[[15 11 10]\n",
            " [13 17 18]\n",
            " [16 15 10]\n",
            " [18 18 14]\n",
            " [19 11 16]\n",
            " [13 16 18]]\n",
            "*******\n",
            "[[16 15]\n",
            " [18 18]]\n"
          ]
        }
      ]
    },
    {
      "cell_type": "markdown",
      "source": [
        "***CONDITIONAL INDEXING***"
      ],
      "metadata": {
        "id": "IO2vwxY7fWd8"
      }
    },
    {
      "cell_type": "code",
      "source": [
        "print(values)\n",
        "print(\"*******\")\n",
        "print(values>15)"
      ],
      "metadata": {
        "colab": {
          "base_uri": "https://localhost:8080/"
        },
        "id": "d-LIh2KifCRj",
        "outputId": "ae617e09-035b-4d93-c383-52956ba5532e"
      },
      "execution_count": null,
      "outputs": [
        {
          "output_type": "stream",
          "name": "stdout",
          "text": [
            "[[15 11 10]\n",
            " [13 17 18]\n",
            " [16 15 10]\n",
            " [18 18 14]\n",
            " [19 11 16]\n",
            " [13 16 18]]\n",
            "*******\n",
            "[[False False False]\n",
            " [False  True  True]\n",
            " [ True False False]\n",
            " [ True  True False]\n",
            " [ True False  True]\n",
            " [False  True  True]]\n"
          ]
        }
      ]
    },
    {
      "cell_type": "code",
      "source": [
        "print(values)\n",
        "print(\"*******\")\n",
        "print(values[values>15])"
      ],
      "metadata": {
        "colab": {
          "base_uri": "https://localhost:8080/"
        },
        "id": "Gm0wavSPfvfz",
        "outputId": "431845f8-89ef-4030-fb65-f7a8f37f0e09"
      },
      "execution_count": null,
      "outputs": [
        {
          "output_type": "stream",
          "name": "stdout",
          "text": [
            "[[15 11 10]\n",
            " [13 17 18]\n",
            " [16 15 10]\n",
            " [18 18 14]\n",
            " [19 11 16]\n",
            " [13 16 18]]\n",
            "*******\n",
            "[17 18 16 18 18 19 16 16 18]\n"
          ]
        }
      ]
    },
    {
      "cell_type": "code",
      "source": [
        "print(values)\n",
        "print(\"*******\")\n",
        "values[values>15]=99\n",
        "print(values)"
      ],
      "metadata": {
        "colab": {
          "base_uri": "https://localhost:8080/"
        },
        "id": "_fhnNULNgU17",
        "outputId": "d0bf544d-c12a-43ca-9cd0-2870e93ad371"
      },
      "execution_count": null,
      "outputs": [
        {
          "output_type": "stream",
          "name": "stdout",
          "text": [
            "[[15 11 10]\n",
            " [13 99 99]\n",
            " [99 15 10]\n",
            " [99 99 14]\n",
            " [99 11 99]\n",
            " [13 99 99]]\n",
            "*******\n",
            "[[15 11 10]\n",
            " [13 99 99]\n",
            " [99 15 10]\n",
            " [99 99 14]\n",
            " [99 11 99]\n",
            " [13 99 99]]\n"
          ]
        }
      ]
    },
    {
      "cell_type": "markdown",
      "source": [
        "***TO CREATE A COPY OF AN EXISTING ARRAY***"
      ],
      "metadata": {
        "id": "d5OKKwgkhdUZ"
      }
    },
    {
      "cell_type": "code",
      "source": [
        "newvalues= values.copy()\n",
        "print(values)\n",
        "print(\"******\")\n",
        "print(newvalues)"
      ],
      "metadata": {
        "colab": {
          "base_uri": "https://localhost:8080/"
        },
        "id": "XeQQZ3pqhh-i",
        "outputId": "61b865ca-1893-40a4-a5dd-029326411f34"
      },
      "execution_count": null,
      "outputs": [
        {
          "output_type": "stream",
          "name": "stdout",
          "text": [
            "[[15 11 10]\n",
            " [13 99 99]\n",
            " [99 15 10]\n",
            " [99 99 14]\n",
            " [99 11 99]\n",
            " [13 99 99]]\n",
            "******\n",
            "[[15 11 10]\n",
            " [13 99 99]\n",
            " [99 15 10]\n",
            " [99 99 14]\n",
            " [99 11 99]\n",
            " [13 99 99]]\n"
          ]
        }
      ]
    }
  ]
}